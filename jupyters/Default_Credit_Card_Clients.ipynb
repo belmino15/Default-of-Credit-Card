{
 "cells": [
  {
   "cell_type": "markdown",
   "metadata": {},
   "source": [
    "# Project: Default of Credit Card Clients"
   ]
  },
  {
   "cell_type": "markdown",
   "metadata": {},
   "source": [
    "## 1 - Business Understanding"
   ]
  },
  {
   "cell_type": "markdown",
   "metadata": {},
   "source": [
    "Credit companies work to grant access to credit and facilitate consumption for people to live better. In financial terms, credit represents an amount of money that a company entrusts to another company or a person. The importance of credit is indisputable. it's responsible for the growth of the economy as it allows the increase in the consumption of goods and services, generating jobs and feeding back the increase in consumption.\n",
    "\n",
    "Default is a failure to pay financial obligations and is one of the biggest concerns of any company. It is important to have bad debt control in order to avoid losses and protect the company's financial health.\n",
    "\n",
    "Credit companies must focus on keeping default under control, for this they must carry out studies that allow them to understand the profile of their clients and carry out marketing campaigns aimed at clients with greater risk of default.\n",
    "\n",
    "The base below presents information about customers of a credit company and in order to understand their payer profile and their risk of forecast, we will try to answer these two questions:\n",
    "\n",
    "- How does the probability of default payment vary by categories of different demographic variables?\n",
    "- Which variables are the strongest predictors of default payment?\n",
    "\n",
    "Data: https://www.kaggle.com/uciml/default-of-credit-card-clients-dataset"
   ]
  },
  {
   "cell_type": "markdown",
   "metadata": {},
   "source": [
    "## Importing librarys"
   ]
  },
  {
   "cell_type": "code",
   "execution_count": 368,
   "metadata": {},
   "outputs": [],
   "source": [
    "import pandas as pd\n",
    "import numpy as np\n",
    "import matplotlib.pyplot as plt\n",
    "plt.style.use('ggplot')\n",
    "import seaborn as sns\n",
    "\n",
    "from sklearn.model_selection import train_test_split\n",
    "from sklearn.model_selection import cross_val_score\n",
    "from sklearn.model_selection import cross_validate\n",
    "from sklearn.model_selection import RandomizedSearchCV\n",
    "\n",
    "from sklearn.metrics import classification_report\n",
    "from sklearn.metrics import confusion_matrix\n",
    "from sklearn.metrics import accuracy_score\n",
    "from sklearn.metrics import roc_auc_score\n",
    "\n",
    "from sklearn.linear_model import LogisticRegression\n",
    "from sklearn.tree import DecisionTreeClassifier\n",
    "from sklearn.ensemble import RandomForestClassifier\n",
    "\n",
    "from sklearn.preprocessing import StandardScaler\n",
    "from sklearn.decomposition import PCA\n",
    "\n",
    "from astropy.table import Table, Column\n",
    "\n",
    "import warnings\n",
    "warnings.filterwarnings(\"ignore\", category=FutureWarning)\n",
    "warnings.filterwarnings(\"ignore\", category=UserWarning)\n",
    "\n",
    "from sklearn.exceptions import ConvergenceWarning\n",
    "warnings.filterwarnings(\"ignore\", category=ConvergenceWarning)\n",
    "\n",
    "from sklearn.exceptions import UndefinedMetricWarning\n",
    "warnings.filterwarnings(\"ignore\", category=UndefinedMetricWarning)\n",
    "\n",
    "pd.options.display.max_columns = 50"
   ]
  },
  {
   "cell_type": "code",
   "execution_count": null,
   "metadata": {},
   "outputs": [],
   "source": []
  },
  {
   "cell_type": "code",
   "execution_count": null,
   "metadata": {},
   "outputs": [],
   "source": []
  },
  {
   "cell_type": "markdown",
   "metadata": {},
   "source": [
    "## 2 - Data Understanding"
   ]
  },
  {
   "cell_type": "markdown",
   "metadata": {},
   "source": [
    "### Access and Explore"
   ]
  },
  {
   "cell_type": "markdown",
   "metadata": {},
   "source": [
    "#### Import data"
   ]
  },
  {
   "cell_type": "code",
   "execution_count": 370,
   "metadata": {},
   "outputs": [],
   "source": [
    "cred = pd.read_csv('../data/archive.zip')"
   ]
  },
  {
   "cell_type": "code",
   "execution_count": 371,
   "metadata": {},
   "outputs": [],
   "source": [
    "cred.rename(columns= {'default.payment.next.month': 'DEFAULT_PAYMENT'}, inplace= True)"
   ]
  },
  {
   "cell_type": "markdown",
   "metadata": {},
   "source": [
    "#### Unique values"
   ]
  },
  {
   "cell_type": "code",
   "execution_count": 372,
   "metadata": {},
   "outputs": [
    {
     "data": {
      "text/plain": [
       "0"
      ]
     },
     "execution_count": 372,
     "metadata": {},
     "output_type": "execute_result"
    }
   ],
   "source": [
    "cred.duplicated().sum()"
   ]
  },
  {
   "cell_type": "code",
   "execution_count": 373,
   "metadata": {},
   "outputs": [
    {
     "data": {
      "text/plain": [
       "0"
      ]
     },
     "execution_count": 373,
     "metadata": {},
     "output_type": "execute_result"
    }
   ],
   "source": [
    "cred.ID.duplicated().sum()"
   ]
  },
  {
   "cell_type": "markdown",
   "metadata": {},
   "source": [
    "- No duplicated values ou duplicated IDs"
   ]
  },
  {
   "cell_type": "markdown",
   "metadata": {},
   "source": [
    "#### Null values"
   ]
  },
  {
   "cell_type": "code",
   "execution_count": 374,
   "metadata": {
    "scrolled": false
   },
   "outputs": [
    {
     "data": {
      "text/plain": [
       "ID                 0\n",
       "LIMIT_BAL          0\n",
       "SEX                0\n",
       "EDUCATION          0\n",
       "MARRIAGE           0\n",
       "AGE                0\n",
       "PAY_0              0\n",
       "PAY_2              0\n",
       "PAY_3              0\n",
       "PAY_4              0\n",
       "PAY_5              0\n",
       "PAY_6              0\n",
       "BILL_AMT1          0\n",
       "BILL_AMT2          0\n",
       "BILL_AMT3          0\n",
       "BILL_AMT4          0\n",
       "BILL_AMT5          0\n",
       "BILL_AMT6          0\n",
       "PAY_AMT1           0\n",
       "PAY_AMT2           0\n",
       "PAY_AMT3           0\n",
       "PAY_AMT4           0\n",
       "PAY_AMT5           0\n",
       "PAY_AMT6           0\n",
       "DEFAULT_PAYMENT    0\n",
       "dtype: int64"
      ]
     },
     "execution_count": 374,
     "metadata": {},
     "output_type": "execute_result"
    }
   ],
   "source": [
    "cred.isnull().sum()"
   ]
  },
  {
   "cell_type": "markdown",
   "metadata": {},
   "source": [
    "- No variable have null values"
   ]
  },
  {
   "cell_type": "markdown",
   "metadata": {},
   "source": [
    "#### Zeros"
   ]
  },
  {
   "cell_type": "code",
   "execution_count": 375,
   "metadata": {
    "scrolled": false
   },
   "outputs": [
    {
     "data": {
      "text/plain": [
       "ID                     0\n",
       "LIMIT_BAL              0\n",
       "SEX                    0\n",
       "EDUCATION             14\n",
       "MARRIAGE              54\n",
       "AGE                    0\n",
       "PAY_0              14737\n",
       "PAY_2              15730\n",
       "PAY_3              15764\n",
       "PAY_4              16455\n",
       "PAY_5              16947\n",
       "PAY_6              16286\n",
       "BILL_AMT1           2008\n",
       "BILL_AMT2           2506\n",
       "BILL_AMT3           2870\n",
       "BILL_AMT4           3195\n",
       "BILL_AMT5           3506\n",
       "BILL_AMT6           4020\n",
       "PAY_AMT1            5249\n",
       "PAY_AMT2            5396\n",
       "PAY_AMT3            5968\n",
       "PAY_AMT4            6408\n",
       "PAY_AMT5            6703\n",
       "PAY_AMT6            7173\n",
       "DEFAULT_PAYMENT    23364\n",
       "dtype: int64"
      ]
     },
     "execution_count": 375,
     "metadata": {},
     "output_type": "execute_result"
    }
   ],
   "source": [
    "(cred == 0).sum()"
   ]
  },
  {
   "cell_type": "markdown",
   "metadata": {},
   "source": [
    "- Some variable have zeros"
   ]
  },
  {
   "cell_type": "markdown",
   "metadata": {},
   "source": [
    "#### Data types"
   ]
  },
  {
   "cell_type": "code",
   "execution_count": 376,
   "metadata": {
    "scrolled": true
   },
   "outputs": [
    {
     "name": "stdout",
     "output_type": "stream",
     "text": [
      "[dtype('int64') dtype('float64')]\n"
     ]
    }
   ],
   "source": [
    "print(cred.dtypes.unique())"
   ]
  },
  {
   "cell_type": "markdown",
   "metadata": {},
   "source": [
    "- It only has numerical values, but categorical variables such as SEX and MARRIAGE are observed."
   ]
  },
  {
   "cell_type": "code",
   "execution_count": 377,
   "metadata": {},
   "outputs": [
    {
     "data": {
      "text/plain": [
       "array([2, 1], dtype=int64)"
      ]
     },
     "execution_count": 377,
     "metadata": {},
     "output_type": "execute_result"
    }
   ],
   "source": [
    "cred.SEX.unique()"
   ]
  },
  {
   "cell_type": "code",
   "execution_count": 378,
   "metadata": {},
   "outputs": [
    {
     "data": {
      "text/plain": [
       "array([1, 2, 3, 0], dtype=int64)"
      ]
     },
     "execution_count": 378,
     "metadata": {},
     "output_type": "execute_result"
    }
   ],
   "source": [
    "cred.MARRIAGE.unique()"
   ]
  },
  {
   "cell_type": "code",
   "execution_count": 379,
   "metadata": {},
   "outputs": [
    {
     "data": {
      "text/plain": [
       "array([2, 1, 3, 5, 4, 6, 0], dtype=int64)"
      ]
     },
     "execution_count": 379,
     "metadata": {},
     "output_type": "execute_result"
    }
   ],
   "source": [
    "cred.EDUCATION.unique()"
   ]
  },
  {
   "cell_type": "markdown",
   "metadata": {},
   "source": [
    "###### This variable was encoded using LabelEncoding\n",
    "\n",
    "**SEX:** Gender\n",
    "    \n",
    "    1 = Male\n",
    "    2 = Female\n",
    "    \n",
    "**EDUCATION:** Education level\n",
    "\n",
    "    0 = Unknown\n",
    "    1 = Graduate school\n",
    "    2 = University\n",
    "    3 = High school\n",
    "    4 = Others\n",
    "    5 = Unknown\n",
    "    6 = Unknown\n",
    "\n",
    "**MARRIAGE:** Marital status\n",
    "\n",
    "    0 = Unknown\n",
    "    1 = Married\n",
    "    2 = Single\n",
    "    3 = Others"
   ]
  },
  {
   "cell_type": "markdown",
   "metadata": {},
   "source": [
    "#### Number of defaulters"
   ]
  },
  {
   "cell_type": "code",
   "execution_count": 380,
   "metadata": {},
   "outputs": [
    {
     "name": "stdout",
     "output_type": "stream",
     "text": [
      "Payment Status No of clients (%) of Total\n",
      "-------------- ------------- ------------\n",
      "      Paid out         23364        77.88\n",
      "       Default          6636        22.12\n"
     ]
    }
   ],
   "source": [
    "cred.DEFAULT_PAYMENT[cred.DEFAULT_PAYMENT==0].count()\n",
    "\n",
    "data_rows = [['Paid out',cred.DEFAULT_PAYMENT[cred.DEFAULT_PAYMENT==0].count(), round(cred.DEFAULT_PAYMENT[cred.DEFAULT_PAYMENT==0].count()*100/cred.DEFAULT_PAYMENT.count(),2)],\n",
    "             ['Default', cred.DEFAULT_PAYMENT[cred.DEFAULT_PAYMENT==1].count(), round(cred.DEFAULT_PAYMENT[cred.DEFAULT_PAYMENT==1].count()*100/cred.DEFAULT_PAYMENT.count(),2)]\n",
    "            ]\n",
    "\n",
    "t = Table(rows=data_rows, names=('Payment Status', 'No of clients','(%) of Total'))\n",
    "print(t)"
   ]
  },
  {
   "cell_type": "markdown",
   "metadata": {},
   "source": [
    "- About 22% of the base is marked as defaulting"
   ]
  },
  {
   "cell_type": "markdown",
   "metadata": {},
   "source": [
    "#### Behavior of categorical variables"
   ]
  },
  {
   "cell_type": "code",
   "execution_count": 381,
   "metadata": {
    "scrolled": false
   },
   "outputs": [
    {
     "data": {
      "image/png": "[encoded data removed]",
      "text/plain": [
       "<Figure size 1440x720 with 6 Axes>"
      ]
     },
     "metadata": {},
     "output_type": "display_data"
    }
   ],
   "source": [
    "f, axes = plt.subplots(2, 3, figsize=(20, 10), facecolor='white')\n",
    "\n",
    "# Figura 1\n",
    "ax = sns.barplot(x=\"SEX\", y=\"DEFAULT_PAYMENT\", data=cred,ax=axes[0,0])\n",
    "ax.set_xticklabels(['Male','Female'])\n",
    "ax.set_label('Pagadores (%)')\n",
    "ax.set_xlabel('Gender')\n",
    "ax.set_title(\"Percentage of bad payers by Gender\");\n",
    "\n",
    "# Figura 2\n",
    "ax = sns.barplot(x=\"EDUCATION\", y=\"DEFAULT_PAYMENT\", data=cred,ax=axes[0,1])\n",
    "ax.set_xticklabels(['Unknown', 'Graduate school', 'University', 'High school', 'Others', 'Unknown', 'Unknown'], rotation=15)\n",
    "ax.set_label('Pagadores')\n",
    "ax.set_xlabel('Education level')\n",
    "ax.set_title(\"Percentage of bad payers by Education level\");\n",
    "\n",
    "# Figura 3\n",
    "ax = sns.barplot(x=\"EDUCATION\", y=\"LIMIT_BAL\", data=cred,ax=axes[0,2])\n",
    "ax.set_xticklabels(['Unknown', 'Graduate school', 'University', 'High school', 'Others', 'Unknown', 'Unknown'], rotation=15)\n",
    "ax.set_ylabel('Average Credit Limit')\n",
    "ax.set_xlabel('Nível de Education level')\n",
    "ax.set_title('Average Credit Limit vs Education level');\n",
    "\n",
    "# Figura 4\n",
    "ax = sns.barplot(x=\"DEFAULT_PAYMENT\", y=\"AGE\", data=cred,ax=axes[1,0])\n",
    "ax.set_xticklabels(['Paid out','Default'])\n",
    "ax.set_ylabel('Average Age')\n",
    "ax.set_xlabel('Next Payment Status')\n",
    "ax.set_title(\"Average Age vs Next Payment Status\");\n",
    "\n",
    "# Figura 5\n",
    "ax = sns.barplot(x=\"MARRIAGE\", y=\"DEFAULT_PAYMENT\", data=cred,ax=axes[1,1])\n",
    "ax.set_xticklabels(['Unknown', 'Married', 'Single', 'Others'])\n",
    "ax.set_label('Pagadores (%)')\n",
    "ax.set_xlabel('Marital status')\n",
    "ax.set_title(\"Percentage of bad payers by Marital status\");\n",
    "\n",
    "# Figura 6\n",
    "ax = sns.barplot(x=\"MARRIAGE\", y=\"LIMIT_BAL\", data=cred,ax=axes[1,2])\n",
    "ax.set_xticklabels(['Unknown', 'Married', 'Single', 'Others'])\n",
    "ax.set_ylabel('Average Credit Limit')\n",
    "ax.set_xlabel('Marital status')\n",
    "ax.set_title('Average Credit Limit vs Marital status');"
   ]
  },
  {
   "cell_type": "markdown",
   "metadata": {},
   "source": [
    "In the analysis of the graphs above, it is observed:\n",
    "         \n",
    "- Men have a higher default rate than women;\n",
    "- There is a lower number of defaulters among people with higher education than among people with less education;\n",
    "- People with more education have, on average, a higher limit than people with less education;\n",
    "- There is no significant difference in the average age of good payers and bad payers;\n",
    "- Married customers have a higher percentage of bad debtors than single customers;\n",
    "- Married clients have, on average, a higher limit than single clients."
   ]
  },
  {
   "cell_type": "markdown",
   "metadata": {},
   "source": [
    "#### Percentage of bad payers by credit limit range"
   ]
  },
  {
   "cell_type": "code",
   "execution_count": 382,
   "metadata": {},
   "outputs": [
    {
     "data": {
      "image/png": "[encoded data removed]",
      "text/plain": [
       "<Figure size 1440x360 with 1 Axes>"
      ]
     },
     "metadata": {},
     "output_type": "display_data"
    }
   ],
   "source": [
    "df = cred.copy()\n",
    "bins = [0] + np.logspace(4,5.69897000434,50).tolist() + [np.inf]\n",
    "df = df.DEFAULT_PAYMENT.groupby(pd.cut(df['LIMIT_BAL'], bins=bins)).mean().reset_index(name='Status Pagamento')\n",
    "\n",
    "fig2 = plt.figure(figsize=(20,5))\n",
    "ax = sns.barplot(x=\"LIMIT_BAL\", y=\"Status Pagamento\", data=df, color = 'steelblue')\n",
    "ax.set_xticklabels(df.LIMIT_BAL.sort_values().unique(), rotation= 'vertical')\n",
    "ax.set_ylabel('Percentage of bad payers')\n",
    "ax.set_xlabel('Credit limit range')\n",
    "ax.set_title(\"Percentage of bad payers by credit limit range\");\n",
    "del df"
   ]
  },
  {
   "cell_type": "markdown",
   "metadata": {},
   "source": [
    "**Obs:** From the analysis of the graph above, it can be seen that customers with a lower credit limit have a higher percentage of bad debtors than those with a higher limit."
   ]
  },
  {
   "cell_type": "markdown",
   "metadata": {},
   "source": [
    "#### Number of clients by age"
   ]
  },
  {
   "cell_type": "code",
   "execution_count": 383,
   "metadata": {},
   "outputs": [
    {
     "data": {
      "image/png": "[encoded data removed]",
      "text/plain": [
       "<Figure size 1080x360 with 1 Axes>"
      ]
     },
     "metadata": {},
     "output_type": "display_data"
    }
   ],
   "source": [
    "plt.figure(figsize=(15,5))\n",
    "sns.countplot(x= 'AGE', color=\"steelblue\", data= cred)\n",
    "plt.ylabel('No of clients')\n",
    "plt.xlabel('Age')\n",
    "plt.title(\"Number of clients by age\");"
   ]
  },
  {
   "cell_type": "markdown",
   "metadata": {},
   "source": [
    "**Obs:** The company serves different age groups. With the highest concentration between 20 and 40 years."
   ]
  },
  {
   "cell_type": "code",
   "execution_count": null,
   "metadata": {},
   "outputs": [],
   "source": []
  },
  {
   "cell_type": "code",
   "execution_count": null,
   "metadata": {},
   "outputs": [],
   "source": []
  },
  {
   "cell_type": "markdown",
   "metadata": {},
   "source": [
    "## 3 - Prepare Data"
   ]
  },
  {
   "cell_type": "markdown",
   "metadata": {},
   "source": [
    "#### Copying raw dataset"
   ]
  },
  {
   "cell_type": "code",
   "execution_count": 384,
   "metadata": {},
   "outputs": [],
   "source": [
    "dfcred = cred.copy()"
   ]
  },
  {
   "cell_type": "markdown",
   "metadata": {},
   "source": [
    "**EDUCATION** and **MARRIAGE** columns present data that are not compatible with the variable. Observing that these data do not represent a large portion of the data and that there is a category **\"Others\"**, the labels **\"Unknown\"** will be replaced by **\"Others\"**."
   ]
  },
  {
   "cell_type": "markdown",
   "metadata": {},
   "source": [
    "#### Education"
   ]
  },
  {
   "cell_type": "code",
   "execution_count": 385,
   "metadata": {},
   "outputs": [],
   "source": [
    "dfcred.EDUCATION = np.where(dfcred.EDUCATION == 5, 4, dfcred.EDUCATION)\n",
    "dfcred.EDUCATION = np.where(dfcred.EDUCATION == 6, 4, dfcred.EDUCATION)\n",
    "dfcred.EDUCATION = np.where(dfcred.EDUCATION == 0, 4, dfcred.EDUCATION)"
   ]
  },
  {
   "cell_type": "code",
   "execution_count": 386,
   "metadata": {},
   "outputs": [
    {
     "data": {
      "text/plain": [
       "array([2, 1, 3, 4], dtype=int64)"
      ]
     },
     "execution_count": 386,
     "metadata": {},
     "output_type": "execute_result"
    }
   ],
   "source": [
    "dfcred.EDUCATION.unique()"
   ]
  },
  {
   "cell_type": "markdown",
   "metadata": {},
   "source": [
    "#### Marriage"
   ]
  },
  {
   "cell_type": "code",
   "execution_count": 387,
   "metadata": {},
   "outputs": [],
   "source": [
    "dfcred.MARRIAGE = np.where(dfcred.MARRIAGE == 0, 3, dfcred.MARRIAGE)"
   ]
  },
  {
   "cell_type": "code",
   "execution_count": 388,
   "metadata": {},
   "outputs": [
    {
     "data": {
      "text/plain": [
       "array([1, 2, 3], dtype=int64)"
      ]
     },
     "execution_count": 388,
     "metadata": {},
     "output_type": "execute_result"
    }
   ],
   "source": [
    "dfcred.MARRIAGE.unique()"
   ]
  },
  {
   "cell_type": "code",
   "execution_count": null,
   "metadata": {},
   "outputs": [],
   "source": []
  },
  {
   "cell_type": "code",
   "execution_count": null,
   "metadata": {},
   "outputs": [],
   "source": []
  },
  {
   "cell_type": "markdown",
   "metadata": {},
   "source": [
    "## Data Modeling"
   ]
  },
  {
   "cell_type": "markdown",
   "metadata": {},
   "source": [
    "#### Preparation of training and testing dataframes"
   ]
  },
  {
   "cell_type": "markdown",
   "metadata": {},
   "source": [
    "- Data Standardization (Using StandardScale)"
   ]
  },
  {
   "cell_type": "code",
   "execution_count": 389,
   "metadata": {},
   "outputs": [
    {
     "name": "stdout",
     "output_type": "stream",
     "text": [
      "StandardScaler()\n"
     ]
    }
   ],
   "source": [
    "X = dfcred.drop(['ID', 'DEFAULT_PAYMENT'], axis=1)  \n",
    "y = dfcred['DEFAULT_PAYMENT']\n",
    "scaler = StandardScaler()\n",
    "print(scaler.fit(X))\n",
    "\n",
    "x_std = scaler.transform(X)\n",
    "X_std = pd.DataFrame(x_std,\n",
    "                     index= X.index,\n",
    "                     columns= X.columns)\n",
    "\n",
    "dfcred_std = pd.concat([X_std, y], axis=1)"
   ]
  },
  {
   "cell_type": "markdown",
   "metadata": {},
   "source": [
    "- Dimension reduction (PCA)"
   ]
  },
  {
   "cell_type": "code",
   "execution_count": 390,
   "metadata": {},
   "outputs": [
    {
     "name": "stdout",
     "output_type": "stream",
     "text": [
      "PCA(n_components=3)\n",
      "Total variance of the 3 components: 93.63 %\n"
     ]
    }
   ],
   "source": [
    "pca = PCA(n_components=3)\n",
    "print(pca.fit(X))\n",
    "print('Total variance of the 3 components: {} %'.format(round(sum(pca.explained_variance_ratio_)*100,2)))\n",
    "\n",
    "x_pca = pca.transform(X)\n",
    "X_pca = pd.DataFrame(x_pca)\n",
    "\n",
    "dfcred_pca = pd.concat([X_pca, y], axis=1)"
   ]
  },
  {
   "cell_type": "markdown",
   "metadata": {},
   "source": [
    "- Split of data"
   ]
  },
  {
   "cell_type": "code",
   "execution_count": 391,
   "metadata": {},
   "outputs": [],
   "source": [
    "# Split dados padrão\n",
    "\n",
    "X_train, X_test, y_train, y_test = train_test_split(X,y, test_size=0.2, stratify=y, random_state=42)\n",
    "\n",
    "# Split dados standalized\n",
    "X_std = dfcred_std.drop('DEFAULT_PAYMENT', axis=1)  \n",
    "y_std = dfcred_std['DEFAULT_PAYMENT']\n",
    "\n",
    "X_train_std, X_test_std, y_train_std, y_test_std = train_test_split(X_std,y_std, test_size=0.2, stratify=y_std, random_state=42)\n",
    "\n",
    "# Split dados pós-PCA\n",
    "\n",
    "X_pca = dfcred_pca.drop('DEFAULT_PAYMENT', axis=1)  \n",
    "y_pca = dfcred_pca['DEFAULT_PAYMENT']\n",
    "\n",
    "X_train_pca, X_test_pca, y_train_pca, y_test_pca = train_test_split(X_pca,y_pca, test_size=0.2, stratify=y_pca, random_state=42)"
   ]
  },
  {
   "cell_type": "code",
   "execution_count": null,
   "metadata": {},
   "outputs": [],
   "source": []
  },
  {
   "cell_type": "markdown",
   "metadata": {},
   "source": [
    "### Fit Models"
   ]
  },
  {
   "cell_type": "markdown",
   "metadata": {},
   "source": [
    "#### Classification Models\n",
    " - Logistic Regression\n",
    " - Decision Tree\n",
    " - Random Forest"
   ]
  },
  {
   "cell_type": "markdown",
   "metadata": {},
   "source": [
    "#### Logistic Regression (Standart)"
   ]
  },
  {
   "cell_type": "markdown",
   "metadata": {},
   "source": [
    "##### Model Training"
   ]
  },
  {
   "cell_type": "raw",
   "metadata": {},
   "source": [
    "# Cell with long runtime\n",
    "\n",
    "param_grid = {'C': np.linspace(10**-10, 5, 20)} # variable space\n",
    "\n",
    "logreg = LogisticRegression()\n",
    "logreg_cv = RandomizedSearchCV(logreg,param_grid , cv=5, random_state=0)\n",
    "\n",
    "logreg_cv.fit(X_train, y_train)\n",
    "\n",
    "print(\"Tuned Parameters: {}\".format(logreg_cv.best_params_))\n",
    "\n",
    "Last result => C = 4.473684210536843"
   ]
  },
  {
   "cell_type": "markdown",
   "metadata": {},
   "source": [
    "##### Model Evaluation"
   ]
  },
  {
   "cell_type": "code",
   "execution_count": 392,
   "metadata": {},
   "outputs": [
    {
     "name": "stdout",
     "output_type": "stream",
     "text": [
      "Accuracy: 0.7788333333333334\n"
     ]
    }
   ],
   "source": [
    "LR = LogisticRegression(C=4.4737, random_state=0)\n",
    "LR.fit(X_train, y_train)\n",
    "y_pred = LR.predict(X_test)\n",
    "\n",
    "print('Accuracy:', accuracy_score(y_pred,y_test))"
   ]
  },
  {
   "cell_type": "markdown",
   "metadata": {},
   "source": [
    "##### Viewing metrics"
   ]
  },
  {
   "cell_type": "code",
   "execution_count": 393,
   "metadata": {
    "scrolled": true
   },
   "outputs": [
    {
     "name": "stdout",
     "output_type": "stream",
     "text": [
      "\n",
      "              precision    recall  f1-score   support\n",
      "\n",
      "           0       0.78      1.00      0.88      4673\n",
      "           1       0.00      0.00      0.00      1327\n",
      "\n",
      "    accuracy                           0.78      6000\n",
      "   macro avg       0.39      0.50      0.44      6000\n",
      "weighted avg       0.61      0.78      0.68      6000\n",
      "\n",
      "\n",
      "Average accuracy (CV = 5): 0.7788 , standard deviation: 0.0002\n"
     ]
    }
   ],
   "source": [
    "## 5-fold cross-validation \n",
    "cv_scores = cross_val_score(LR, X, y, cv=5)\n",
    "\n",
    "# Print the 5-fold cross-validation scores\n",
    "print()\n",
    "print(classification_report(y_test, y_pred))\n",
    "print()\n",
    "print(\"Average accuracy (CV = 5): {}\".format(round(np.mean(cv_scores),4)),\n",
    "      \", standard deviation: {}\".format(round(np.std(cv_scores),4)))"
   ]
  },
  {
   "cell_type": "code",
   "execution_count": 394,
   "metadata": {},
   "outputs": [
    {
     "data": {
      "image/png": "[encoded data removed]",
      "text/plain": [
       "<Figure size 288x216 with 2 Axes>"
      ]
     },
     "metadata": {},
     "output_type": "display_data"
    }
   ],
   "source": [
    "plt.figure(figsize=(4,3))\n",
    "ConfMatrix = confusion_matrix(y_test,LR.predict(X_test))\n",
    "sns.heatmap(ConfMatrix,annot=True, cmap=\"Blues\", fmt=\"d\", \n",
    "            xticklabels = ['Paid out', 'Default'], \n",
    "            yticklabels = ['Paid out', 'Default'])\n",
    "plt.ylabel('Real')\n",
    "plt.xlabel('Predict')\n",
    "plt.title(\"Confusion Matrix - Logistic Regression\");"
   ]
  },
  {
   "cell_type": "markdown",
   "metadata": {},
   "source": [
    "#### Logistic Regression (Standardized)"
   ]
  },
  {
   "cell_type": "markdown",
   "metadata": {},
   "source": [
    "##### Model Training"
   ]
  },
  {
   "cell_type": "raw",
   "metadata": {},
   "source": [
    "# Cell with long runtime\n",
    "\n",
    "param_grid = {'C': np.linspace(10**-10, 5, 20)} # variable space\n",
    "\n",
    "logreg = LogisticRegression()\n",
    "logreg_cv_std = RandomizedSearchCV(logreg,param_grid , cv=5, random_state=0)\n",
    "\n",
    "logreg_cv_std.fit(X_train_std, y_train_std)\n",
    "\n",
    "print(\"Tuned Parameters: {}\".format(logreg_cv_std.best_params_))\n",
    "\n",
    "Last result => C = 4.736842105268422"
   ]
  },
  {
   "cell_type": "markdown",
   "metadata": {},
   "source": [
    "##### Model Evaluation"
   ]
  },
  {
   "cell_type": "code",
   "execution_count": 395,
   "metadata": {},
   "outputs": [
    {
     "name": "stdout",
     "output_type": "stream",
     "text": [
      "Accuracy: 0.808\n"
     ]
    }
   ],
   "source": [
    "LR_std = LogisticRegression(C=4.7368, random_state=0)\n",
    "LR_std.fit(X_train_std, y_train_std)\n",
    "y_pred_std = LR_std.predict(X_test_std)\n",
    "\n",
    "print('Accuracy:', accuracy_score(y_pred_std,y_test_std))"
   ]
  },
  {
   "cell_type": "markdown",
   "metadata": {},
   "source": [
    "##### Viewing metrics"
   ]
  },
  {
   "cell_type": "code",
   "execution_count": 396,
   "metadata": {},
   "outputs": [
    {
     "name": "stdout",
     "output_type": "stream",
     "text": [
      "\n",
      "              precision    recall  f1-score   support\n",
      "\n",
      "           0       0.82      0.97      0.89      4673\n",
      "           1       0.69      0.24      0.36      1327\n",
      "\n",
      "    accuracy                           0.81      6000\n",
      "   macro avg       0.75      0.61      0.62      6000\n",
      "weighted avg       0.79      0.81      0.77      6000\n",
      "\n",
      "\n",
      "Average accuracy (CV = 5): 0.8098 , standard deviation: 0.0046\n"
     ]
    }
   ],
   "source": [
    "## 5-fold cross-validation \n",
    "cv_scores_std = cross_val_score(LR_std, X_std, y_std, cv=5)\n",
    "\n",
    "# Print the 5-fold cross-validation scores\n",
    "print()\n",
    "print(classification_report(y_test_std, y_pred_std))\n",
    "print()\n",
    "print(\"Average accuracy (CV = 5): {}\".format(round(np.mean(cv_scores_std),4)),\n",
    "      \", standard deviation: {}\".format(round(np.std(cv_scores_std),4)))"
   ]
  },
  {
   "cell_type": "code",
   "execution_count": 397,
   "metadata": {
    "scrolled": true
   },
   "outputs": [
    {
     "data": {
      "image/png": "[encoded data removed]",
      "text/plain": [
       "<Figure size 288x216 with 2 Axes>"
      ]
     },
     "metadata": {},
     "output_type": "display_data"
    }
   ],
   "source": [
    "plt.figure(figsize=(4,3))\n",
    "ConfMatrix = confusion_matrix(y_test_std,LR_std.predict(X_test_std))\n",
    "sns.heatmap(ConfMatrix,annot=True, cmap=\"Blues\", fmt=\"d\", \n",
    "            xticklabels = ['Paid out', 'Default'], \n",
    "            yticklabels = ['Paid out', 'Default'])\n",
    "plt.ylabel('Real')\n",
    "plt.xlabel('Predict')\n",
    "plt.title(\"Confusion Matrix - Logistic Regression (Standardized)\");"
   ]
  },
  {
   "cell_type": "markdown",
   "metadata": {},
   "source": [
    "#### Logistic Regression (Standardized + PCA)"
   ]
  },
  {
   "cell_type": "markdown",
   "metadata": {},
   "source": [
    "##### Model Training"
   ]
  },
  {
   "cell_type": "raw",
   "metadata": {},
   "source": [
    "# Cell with long runtime \n",
    "\n",
    "param_grid = {'C': np.linspace(10**-10, 5, 20)} # variable space\n",
    "\n",
    "logreg = LogisticRegression()\n",
    "logreg_cv_pca = RandomizedSearchCV(logreg,param_grid , cv=5, random_state=0)\n",
    "\n",
    "logreg_cv_pca.fit(X_train_pca, y_train_pca)\n",
    "\n",
    "print(\"Tuned Parameters: {}\".format(logreg_cv_pca.best_params_))\n",
    "\n",
    "Last result => C = 4.736842105268422"
   ]
  },
  {
   "cell_type": "markdown",
   "metadata": {},
   "source": [
    "##### Model Evaluation"
   ]
  },
  {
   "cell_type": "code",
   "execution_count": 398,
   "metadata": {},
   "outputs": [
    {
     "name": "stdout",
     "output_type": "stream",
     "text": [
      "Accuracy: 0.5016666666666667\n"
     ]
    }
   ],
   "source": [
    "LR_pca = LogisticRegression(C=4.7368, random_state=0)\n",
    "LR_pca.fit(X_train_pca, y_train_pca)\n",
    "y_pred_pca = LR_pca.predict(X_test_pca)\n",
    "\n",
    "print('Accuracy:', accuracy_score(y_pred_pca,y_test_pca))"
   ]
  },
  {
   "cell_type": "markdown",
   "metadata": {},
   "source": [
    "##### Viewing metrics"
   ]
  },
  {
   "cell_type": "code",
   "execution_count": 399,
   "metadata": {
    "scrolled": true
   },
   "outputs": [
    {
     "name": "stdout",
     "output_type": "stream",
     "text": [
      "\n",
      "              precision    recall  f1-score   support\n",
      "\n",
      "           0       0.84      0.45      0.58      4673\n",
      "           1       0.26      0.69      0.38      1327\n",
      "\n",
      "    accuracy                           0.50      6000\n",
      "   macro avg       0.55      0.57      0.48      6000\n",
      "weighted avg       0.71      0.50      0.54      6000\n",
      "\n",
      "\n",
      "Average accuracy (CV = 5): 0.5111 , standard deviation: 0.0221\n"
     ]
    }
   ],
   "source": [
    "## 5-fold cross-validation \n",
    "cv_scores_pca = cross_val_score(LR_pca, X_pca, y_pca, cv=5)\n",
    "\n",
    "# Print the 5-fold cross-validation scores\n",
    "print()\n",
    "print(classification_report(y_test_pca, y_pred_pca))\n",
    "print()\n",
    "print(\"Average accuracy (CV = 5): {}\".format(round(np.mean(cv_scores_pca),4)),\n",
    "      \", standard deviation: {}\".format(round(np.std(cv_scores_pca),4)))"
   ]
  },
  {
   "cell_type": "code",
   "execution_count": 400,
   "metadata": {
    "scrolled": true
   },
   "outputs": [
    {
     "data": {
      "image/png": "[encoded data removed]",
      "text/plain": [
       "<Figure size 288x216 with 2 Axes>"
      ]
     },
     "metadata": {},
     "output_type": "display_data"
    }
   ],
   "source": [
    "plt.figure(figsize=(4,3))\n",
    "ConfMatrix = confusion_matrix(y_test_pca,LR_pca.predict(X_test_pca))\n",
    "sns.heatmap(ConfMatrix,annot=True, cmap=\"Blues\", fmt=\"d\", \n",
    "            xticklabels = ['Paid out', 'Default'], \n",
    "            yticklabels = ['Paid out', 'Default'])\n",
    "plt.ylabel('Real')\n",
    "plt.xlabel('Predict')\n",
    "plt.title(\"Confusion Matrix - Logistic Regression (STD + PCA)\");"
   ]
  },
  {
   "cell_type": "markdown",
   "metadata": {},
   "source": [
    "#### Decision Tree"
   ]
  },
  {
   "cell_type": "markdown",
   "metadata": {},
   "source": [
    "##### Model Training"
   ]
  },
  {
   "cell_type": "raw",
   "metadata": {},
   "source": [
    "param_dist = {\"max_depth\": [1,2,3,4,5,6,7,8,9],\n",
    "              \"max_features\": [1,2,3,4,5,6,7,8,9],\n",
    "              \"min_samples_leaf\": [1,2,3,4,5,6,7,8,9],\n",
    "              \"criterion\": [\"gini\", \"entropy\"]}\n",
    "\n",
    "tree = DecisionTreeClassifier()\n",
    "tree_cv = RandomizedSearchCV(tree, param_distributions=param_dist, cv=5, random_state=0)\n",
    "\n",
    "tree_cv.fit(X_train, y_train)\n",
    "\n",
    "print(\"Tuned Parameters: {}\".format(tree_cv.best_params_))\n",
    "\n",
    "Last result => min_samples_leaf = 2, max_features = 9, max_depth = 7, criterion = 'gini'"
   ]
  },
  {
   "cell_type": "markdown",
   "metadata": {},
   "source": [
    "##### Model Evaluation"
   ]
  },
  {
   "cell_type": "code",
   "execution_count": 401,
   "metadata": {},
   "outputs": [
    {
     "name": "stdout",
     "output_type": "stream",
     "text": [
      "Accuracy: 0.808\n"
     ]
    }
   ],
   "source": [
    "Tree = DecisionTreeClassifier(criterion= 'gini', max_depth= 7, \n",
    "                                     max_features= 9, min_samples_leaf= 2, \n",
    "                                     random_state=0)\n",
    "Tree.fit(X_train, y_train)\n",
    "y_pred = Tree.predict(X_test)\n",
    "\n",
    "print('Accuracy:', accuracy_score(y_pred,y_test))"
   ]
  },
  {
   "cell_type": "markdown",
   "metadata": {},
   "source": [
    "##### Viewing metrics"
   ]
  },
  {
   "cell_type": "code",
   "execution_count": 402,
   "metadata": {},
   "outputs": [
    {
     "name": "stdout",
     "output_type": "stream",
     "text": [
      "\n",
      "              precision    recall  f1-score   support\n",
      "\n",
      "           0       0.83      0.94      0.88      4673\n",
      "           1       0.63      0.33      0.43      1327\n",
      "\n",
      "    accuracy                           0.81      6000\n",
      "   macro avg       0.73      0.64      0.66      6000\n",
      "weighted avg       0.79      0.81      0.78      6000\n",
      "\n",
      "\n",
      "Average accuracy (CV = 5): 0.8121 , standard deviation: 0.0085\n"
     ]
    }
   ],
   "source": [
    "## 5-fold cross-validation \n",
    "cv_scores =cross_val_score(Tree, X, y, cv=5)\n",
    "\n",
    "# Print the 5-fold cross-validation scores\n",
    "print()\n",
    "print(classification_report(y_test, y_pred))\n",
    "print()\n",
    "print(\"Average accuracy (CV = 5): {}\".format(round(np.mean(cv_scores),4)), \n",
    "      \", standard deviation: {}\".format(round(np.std(cv_scores),4)))"
   ]
  },
  {
   "cell_type": "code",
   "execution_count": 403,
   "metadata": {},
   "outputs": [
    {
     "data": {
      "image/png": "[encoded data removed]",
      "text/plain": [
       "<Figure size 288x216 with 2 Axes>"
      ]
     },
     "metadata": {},
     "output_type": "display_data"
    }
   ],
   "source": [
    "plt.figure(figsize=(4,3))\n",
    "ConfMatrix = confusion_matrix(y_test,Tree.predict(X_test))\n",
    "sns.heatmap(ConfMatrix,annot=True, cmap=\"Blues\", fmt=\"d\", \n",
    "            xticklabels = ['Paid out', 'Default'], \n",
    "            yticklabels = ['Paid out', 'Default'])\n",
    "plt.ylabel('Real')\n",
    "plt.xlabel('Predict')\n",
    "plt.title(\"Confusion Matrix - Decision Tree\");"
   ]
  },
  {
   "cell_type": "markdown",
   "metadata": {},
   "source": [
    "#### Random Forest"
   ]
  },
  {
   "cell_type": "markdown",
   "metadata": {},
   "source": [
    "##### Treino do Modelo"
   ]
  },
  {
   "cell_type": "raw",
   "metadata": {},
   "source": [
    "param_dist = {'n_estimators': [50,100,150,200,250],\n",
    "               \"max_features\": [1,2,3,4,5,6,7,8,9],\n",
    "               'max_depth': [1,2,3,4,5,6,7,8,9],\n",
    "               \"criterion\": [\"gini\", \"entropy\"]}\n",
    "\n",
    "rf = RandomForestClassifier()\n",
    "rf_cv = RandomizedSearchCV(rf, param_distributions = param_dist, \n",
    "                           cv = 5, random_state=0, n_jobs = -1)\n",
    "\n",
    "rf_cv.fit(X, y)\n",
    "\n",
    "print(\"Tuned Random Forest Parameters: %s\" % (rf_cv.best_params_))\n",
    "\n",
    "Último resultado => n_estimators = 150, max_features = 5, max_depth = 6, criterion = 'gini'}"
   ]
  },
  {
   "cell_type": "markdown",
   "metadata": {},
   "source": [
    "##### Uso do Modelo"
   ]
  },
  {
   "cell_type": "code",
   "execution_count": 404,
   "metadata": {},
   "outputs": [
    {
     "name": "stdout",
     "output_type": "stream",
     "text": [
      "Accuracy: 0.8171666666666667\n"
     ]
    }
   ],
   "source": [
    "Ran = RandomForestClassifier(criterion= 'gini', max_depth= 6, \n",
    "                                     max_features= 5, n_estimators= 150, \n",
    "                                     random_state=0)\n",
    "Ran.fit(X_train, y_train)\n",
    "y_pred = Ran.predict(X_test)\n",
    "\n",
    "print('Accuracy:', accuracy_score(y_pred,y_test))"
   ]
  },
  {
   "cell_type": "markdown",
   "metadata": {},
   "source": [
    "##### Visualização das métricas"
   ]
  },
  {
   "cell_type": "code",
   "execution_count": 405,
   "metadata": {},
   "outputs": [
    {
     "name": "stdout",
     "output_type": "stream",
     "text": [
      "\n",
      "              precision    recall  f1-score   support\n",
      "\n",
      "           0       0.84      0.95      0.89      4673\n",
      "           1       0.66      0.35      0.46      1327\n",
      "\n",
      "    accuracy                           0.82      6000\n",
      "   macro avg       0.75      0.65      0.67      6000\n",
      "weighted avg       0.80      0.82      0.79      6000\n",
      "\n",
      "\n",
      "Average accuracy (CV = 5): 0.8203 , standard deviation: 0.0093\n"
     ]
    }
   ],
   "source": [
    "## 5-fold cross-validation \n",
    "cv_scores =cross_val_score(Ran, X, y, cv=5)\n",
    "\n",
    "# Print the 5-fold cross-validation scores\n",
    "print()\n",
    "print(classification_report(y_test, y_pred))\n",
    "print()\n",
    "print(\"Average accuracy (CV = 5): {}\".format(round(np.mean(cv_scores),4)),\n",
    "      \", standard deviation: {}\".format(round(np.std(cv_scores),4)))"
   ]
  },
  {
   "cell_type": "code",
   "execution_count": 406,
   "metadata": {},
   "outputs": [
    {
     "data": {
      "image/png": "[encoded data removed]",
      "text/plain": [
       "<Figure size 288x216 with 2 Axes>"
      ]
     },
     "metadata": {},
     "output_type": "display_data"
    }
   ],
   "source": [
    "plt.figure(figsize=(4,3))\n",
    "ConfMatrix = confusion_matrix(y_test,Ran.predict(X_test))\n",
    "sns.heatmap(ConfMatrix,annot=True, cmap=\"Blues\", fmt=\"d\", \n",
    "            xticklabels = ['Paid out', 'Default'], \n",
    "            yticklabels = ['Paid out', 'Default'])\n",
    "plt.ylabel('Real')\n",
    "plt.xlabel('Predict')\n",
    "plt.title(\"Confusion Matrix - Random Forest\");"
   ]
  },
  {
   "cell_type": "markdown",
   "metadata": {},
   "source": [
    "### Validate the model"
   ]
  },
  {
   "cell_type": "markdown",
   "metadata": {},
   "source": [
    "#### Final result of all models"
   ]
  },
  {
   "cell_type": "code",
   "execution_count": 407,
   "metadata": {},
   "outputs": [
    {
     "name": "stdout",
     "output_type": "stream",
     "text": [
      "Logistic Regression (Standart): Done\n",
      "Logistic Regression (Standardized): Done\n",
      "Logistic Regression (Standardized + PCA): Done\n",
      "Decision Tree (Standart): Done\n",
      "Random Forest (Standart): Done\n"
     ]
    }
   ],
   "source": [
    "# Append different models\n",
    "models = []\n",
    "\n",
    "# Logistic Regression\n",
    "models.append(('Logistic Regression (Standart)',\n",
    "               LogisticRegression(C=4.4737, random_state=0),'none'))\n",
    "\n",
    "# Logistic Regression (with standardized data)\n",
    "models.append(('Logistic Regression (Standardized)',\n",
    "               LogisticRegression(C=4.7368, random_state=0),'std'))\n",
    "\n",
    "# Logistic Regression with standardized and important features\n",
    "models.append(('Logistic Regression (Standardized + PCA)',\n",
    "               LogisticRegression(C=4.7368, random_state=0),'pca'))\n",
    "\n",
    "# Decision Tree\n",
    "models.append(('Decision Tree (Standart)', \n",
    "              DecisionTreeClassifier(criterion= 'gini', max_depth= 7, \n",
    "                                     max_features= 9, min_samples_leaf= 2, \n",
    "                                     random_state=0),'none'))\n",
    "\n",
    "# Random Forest Classifier\n",
    "models.append(('Random Forest (Standart)', \n",
    "              RandomForestClassifier(criterion= 'gini', max_depth= 6, \n",
    "                                     max_features= 5, n_estimators= 150, \n",
    "                                     random_state=0), 'none'))\n",
    "\n",
    "# Evaluate each model\n",
    "results = []\n",
    "names = []\n",
    "scoring = ['accuracy', 'recall', 'roc_auc']\n",
    "cv = 5\n",
    "\n",
    "for name, model, Std in models:\n",
    "    if Std == 'std':\n",
    "        cv_results = cross_validate(model, X_std, y, cv=cv, scoring=scoring)\n",
    "        results.append(cv_results)\n",
    "        names.append(name)\n",
    "        msg = \"%s: Acurácia %f (%f), Recall %f (%f)\" % (name,\n",
    "                                                        cv_results['test_accuracy'].mean(), cv_results['test_accuracy'].std(),\n",
    "                                                        cv_results['test_recall'].mean(), cv_results['test_recall'].std())\n",
    "        msg = '%s: Done' % (name)\n",
    "        print(msg)\n",
    "    elif Std == 'none':\n",
    "        cv_results = cross_validate(model, X, y, cv=cv, scoring=scoring)\n",
    "        results.append(cv_results)\n",
    "        names.append(name)\n",
    "        msg = \"%s: Acurácia %f (%f), Recall %f (%f)\" % (name,\n",
    "                                                        cv_results['test_accuracy'].mean(), cv_results['test_accuracy'].std(),\n",
    "                                                        cv_results['test_recall'].mean(), cv_results['test_recall'].std())\n",
    "        msg = '%s: Done' % (name)\n",
    "        print(msg)\n",
    "    else:\n",
    "        cv_results = cross_validate(model, X_pca, y, cv=cv, scoring=scoring)\n",
    "        results.append(cv_results)\n",
    "        names.append(name)\n",
    "        msg = \"%s: Acurácia %f (%f), Recall %f (%f)\" % (name,\n",
    "                                                        cv_results['test_accuracy'].mean(), cv_results['test_accuracy'].std(),\n",
    "                                                        cv_results['test_recall'].mean(), cv_results['test_recall'].std())\n",
    "        msg = '%s: Done' % (name)\n",
    "        print(msg)"
   ]
  },
  {
   "cell_type": "code",
   "execution_count": 408,
   "metadata": {},
   "outputs": [],
   "source": [
    "results_acurracy = [results[i]['test_accuracy'] for i in range(0,5)]\n",
    "results_recall = [results[i]['test_recall'] for i in range(0,5)]\n",
    "results_roc_auc = [results[i]['test_roc_auc'] for i in range(0,5)]"
   ]
  },
  {
   "cell_type": "code",
   "execution_count": 409,
   "metadata": {},
   "outputs": [
    {
     "name": "stdout",
     "output_type": "stream",
     "text": [
      "       Model               Data        Accuracy Recall  AUC  \n",
      "------------------- ------------------ -------- ------ ------\n",
      "Logistic Regression           Standart   0.7788 0.0006 0.6536\n",
      "Logistic Regression       Standardized   0.8098 0.2363 0.7217\n",
      "Logistic Regression Standardized + PCA   0.5111 0.7197 0.6244\n",
      "      Decision Tree           Standart   0.8121 0.3229 0.7413\n",
      "      Random Forest           Standart   0.8203 0.3546 0.7753\n"
     ]
    }
   ],
   "source": [
    "data_rows = [[models[i][0][:models[i][0].find('(')].strip(),\n",
    "              models[i][0][models[i][0].find('(')+1:models[i][0].find(')')].strip(),\n",
    "              round(results_acurracy[i].mean(),4),\n",
    "              round(results_recall[i].mean(),4),\n",
    "              round(results_roc_auc[i].mean(),4)\n",
    "             ] for i in range(0,5)]   \n",
    "\n",
    "t = Table(rows=data_rows, names=('Model', 'Data', 'Accuracy', 'Recall', 'AUC'))\n",
    "print(t)"
   ]
  },
  {
   "cell_type": "code",
   "execution_count": 410,
   "metadata": {},
   "outputs": [
    {
     "data": {
      "image/png": "[encoded data removed]",
      "text/plain": [
       "<Figure size 1080x360 with 1 Axes>"
      ]
     },
     "metadata": {},
     "output_type": "display_data"
    }
   ],
   "source": [
    "# http://blog.bharatbhole.com/creating-boxplots-with-matplotlib/\n",
    "\n",
    "# Create a figure instance\n",
    "fig = plt.figure(1, figsize=(15, 5))\n",
    "\n",
    "# Create an axes instance\n",
    "ax = fig.add_subplot(111)\n",
    "\n",
    "# Create the boxplot\n",
    "bp = ax.boxplot(results_acurracy, showmeans=True)\n",
    "ax.set_xticklabels(names, rotation = 15)\n",
    "ax.set_ylabel('Accuracy')\n",
    "ax.set_ylim([0.4 ,0.9])\n",
    "\n",
    "fig.show()"
   ]
  },
  {
   "cell_type": "code",
   "execution_count": 411,
   "metadata": {
    "scrolled": false
   },
   "outputs": [
    {
     "data": {
      "image/png": "[encoded data removed]",
      "text/plain": [
       "<Figure size 1080x360 with 1 Axes>"
      ]
     },
     "metadata": {},
     "output_type": "display_data"
    }
   ],
   "source": [
    "# http://blog.bharatbhole.com/creating-boxplots-with-matplotlib/\n",
    "\n",
    "# Create a figure instance\n",
    "fig = plt.figure(1, figsize=(15, 5))\n",
    "\n",
    "# Create an axes instance\n",
    "ax = fig.add_subplot(111)\n",
    "\n",
    "# Create the boxplot\n",
    "bp = ax.boxplot(results_recall, showmeans=True)\n",
    "ax.set_xticklabels(names, rotation = 15)\n",
    "ax.set_ylabel('Recall')\n",
    "ax.set_ylim([-0.01, 0.45])\n",
    "\n",
    "fig.show()"
   ]
  },
  {
   "cell_type": "code",
   "execution_count": 412,
   "metadata": {
    "scrolled": false
   },
   "outputs": [
    {
     "data": {
      "image/png": "[encoded data removed]",
      "text/plain": [
       "<Figure size 1080x360 with 1 Axes>"
      ]
     },
     "metadata": {},
     "output_type": "display_data"
    }
   ],
   "source": [
    "# http://blog.bharatbhole.com/creating-boxplots-with-matplotlib/\n",
    "\n",
    "# Create a figure instance\n",
    "fig = plt.figure(1, figsize=(15, 5))\n",
    "\n",
    "# Create an axes instance\n",
    "ax = fig.add_subplot(111)\n",
    "\n",
    "# Create the boxplot\n",
    "bp = ax.boxplot(results_roc_auc, showmeans=True)\n",
    "ax.set_xticklabels(names, rotation = 15)\n",
    "ax.set_ylabel('AUC')\n",
    "ax.set_ylim([0.5, 0.85])\n",
    "\n",
    "fig.show()"
   ]
  },
  {
   "cell_type": "markdown",
   "metadata": {},
   "source": [
    "# Chosen model"
   ]
  },
  {
   "cell_type": "markdown",
   "metadata": {},
   "source": [
    "Model chosen was the DecisionTree, as explained at the beginning of the case, three parameters were taken into account for the choice: Accuracy, Recall and AUC. The DecisionTree, RandomForest and LogiscticRegression (Std) models presented values very close in these three aspects.\n",
    "\n",
    "DecisionTree, however, showed less variation between executions performed in the Recall value. With all other parameters close, this ended up being the decision point."
   ]
  },
  {
   "cell_type": "code",
   "execution_count": 413,
   "metadata": {},
   "outputs": [
    {
     "data": {
      "text/html": [
       "<div>\n",
       "<style scoped>\n",
       "    .dataframe tbody tr th:only-of-type {\n",
       "        vertical-align: middle;\n",
       "    }\n",
       "\n",
       "    .dataframe tbody tr th {\n",
       "        vertical-align: top;\n",
       "    }\n",
       "\n",
       "    .dataframe thead th {\n",
       "        text-align: right;\n",
       "    }\n",
       "</style>\n",
       "<table border=\"1\" class=\"dataframe\">\n",
       "  <thead>\n",
       "    <tr style=\"text-align: right;\">\n",
       "      <th></th>\n",
       "      <th>LIMIT_BAL</th>\n",
       "      <th>SEX</th>\n",
       "      <th>EDUCATION</th>\n",
       "      <th>MARRIAGE</th>\n",
       "      <th>AGE</th>\n",
       "      <th>PAY_0</th>\n",
       "      <th>PAY_2</th>\n",
       "      <th>PAY_3</th>\n",
       "      <th>PAY_4</th>\n",
       "      <th>PAY_5</th>\n",
       "      <th>PAY_6</th>\n",
       "      <th>BILL_AMT1</th>\n",
       "      <th>BILL_AMT2</th>\n",
       "      <th>BILL_AMT3</th>\n",
       "      <th>BILL_AMT4</th>\n",
       "      <th>BILL_AMT5</th>\n",
       "      <th>BILL_AMT6</th>\n",
       "      <th>PAY_AMT1</th>\n",
       "      <th>PAY_AMT2</th>\n",
       "      <th>PAY_AMT3</th>\n",
       "      <th>PAY_AMT4</th>\n",
       "      <th>PAY_AMT5</th>\n",
       "      <th>PAY_AMT6</th>\n",
       "    </tr>\n",
       "  </thead>\n",
       "  <tbody>\n",
       "    <tr>\n",
       "      <th>22788</th>\n",
       "      <td>160000.0</td>\n",
       "      <td>2</td>\n",
       "      <td>2</td>\n",
       "      <td>2</td>\n",
       "      <td>33</td>\n",
       "      <td>2</td>\n",
       "      <td>2</td>\n",
       "      <td>3</td>\n",
       "      <td>2</td>\n",
       "      <td>0</td>\n",
       "      <td>0</td>\n",
       "      <td>161771.0</td>\n",
       "      <td>172632.0</td>\n",
       "      <td>168541.0</td>\n",
       "      <td>164310.0</td>\n",
       "      <td>162681.0</td>\n",
       "      <td>163005.0</td>\n",
       "      <td>15000.0</td>\n",
       "      <td>0.0</td>\n",
       "      <td>0.0</td>\n",
       "      <td>6100.0</td>\n",
       "      <td>12300.0</td>\n",
       "      <td>6100.0</td>\n",
       "    </tr>\n",
       "    <tr>\n",
       "      <th>29006</th>\n",
       "      <td>150000.0</td>\n",
       "      <td>2</td>\n",
       "      <td>1</td>\n",
       "      <td>2</td>\n",
       "      <td>34</td>\n",
       "      <td>1</td>\n",
       "      <td>-1</td>\n",
       "      <td>-1</td>\n",
       "      <td>-2</td>\n",
       "      <td>-2</td>\n",
       "      <td>-2</td>\n",
       "      <td>0.0</td>\n",
       "      <td>53.0</td>\n",
       "      <td>0.0</td>\n",
       "      <td>0.0</td>\n",
       "      <td>0.0</td>\n",
       "      <td>0.0</td>\n",
       "      <td>53.0</td>\n",
       "      <td>0.0</td>\n",
       "      <td>0.0</td>\n",
       "      <td>0.0</td>\n",
       "      <td>0.0</td>\n",
       "      <td>0.0</td>\n",
       "    </tr>\n",
       "    <tr>\n",
       "      <th>16950</th>\n",
       "      <td>10000.0</td>\n",
       "      <td>1</td>\n",
       "      <td>2</td>\n",
       "      <td>1</td>\n",
       "      <td>50</td>\n",
       "      <td>1</td>\n",
       "      <td>2</td>\n",
       "      <td>0</td>\n",
       "      <td>0</td>\n",
       "      <td>0</td>\n",
       "      <td>0</td>\n",
       "      <td>10171.0</td>\n",
       "      <td>8150.0</td>\n",
       "      <td>8446.0</td>\n",
       "      <td>8067.0</td>\n",
       "      <td>8227.0</td>\n",
       "      <td>8400.0</td>\n",
       "      <td>2.0</td>\n",
       "      <td>1281.0</td>\n",
       "      <td>1134.0</td>\n",
       "      <td>294.0</td>\n",
       "      <td>305.0</td>\n",
       "      <td>1000.0</td>\n",
       "    </tr>\n",
       "    <tr>\n",
       "      <th>22280</th>\n",
       "      <td>220000.0</td>\n",
       "      <td>2</td>\n",
       "      <td>1</td>\n",
       "      <td>2</td>\n",
       "      <td>29</td>\n",
       "      <td>0</td>\n",
       "      <td>0</td>\n",
       "      <td>0</td>\n",
       "      <td>0</td>\n",
       "      <td>0</td>\n",
       "      <td>0</td>\n",
       "      <td>206879.0</td>\n",
       "      <td>211037.0</td>\n",
       "      <td>215139.0</td>\n",
       "      <td>218513.0</td>\n",
       "      <td>131660.0</td>\n",
       "      <td>134346.0</td>\n",
       "      <td>9100.0</td>\n",
       "      <td>9000.0</td>\n",
       "      <td>7887.0</td>\n",
       "      <td>4800.0</td>\n",
       "      <td>4900.0</td>\n",
       "      <td>6000.0</td>\n",
       "    </tr>\n",
       "    <tr>\n",
       "      <th>11346</th>\n",
       "      <td>310000.0</td>\n",
       "      <td>2</td>\n",
       "      <td>1</td>\n",
       "      <td>2</td>\n",
       "      <td>32</td>\n",
       "      <td>1</td>\n",
       "      <td>-2</td>\n",
       "      <td>-1</td>\n",
       "      <td>0</td>\n",
       "      <td>0</td>\n",
       "      <td>-2</td>\n",
       "      <td>0.0</td>\n",
       "      <td>0.0</td>\n",
       "      <td>326.0</td>\n",
       "      <td>326.0</td>\n",
       "      <td>-235.0</td>\n",
       "      <td>-235.0</td>\n",
       "      <td>0.0</td>\n",
       "      <td>326.0</td>\n",
       "      <td>0.0</td>\n",
       "      <td>0.0</td>\n",
       "      <td>0.0</td>\n",
       "      <td>1200.0</td>\n",
       "    </tr>\n",
       "    <tr>\n",
       "      <th>...</th>\n",
       "      <td>...</td>\n",
       "      <td>...</td>\n",
       "      <td>...</td>\n",
       "      <td>...</td>\n",
       "      <td>...</td>\n",
       "      <td>...</td>\n",
       "      <td>...</td>\n",
       "      <td>...</td>\n",
       "      <td>...</td>\n",
       "      <td>...</td>\n",
       "      <td>...</td>\n",
       "      <td>...</td>\n",
       "      <td>...</td>\n",
       "      <td>...</td>\n",
       "      <td>...</td>\n",
       "      <td>...</td>\n",
       "      <td>...</td>\n",
       "      <td>...</td>\n",
       "      <td>...</td>\n",
       "      <td>...</td>\n",
       "      <td>...</td>\n",
       "      <td>...</td>\n",
       "      <td>...</td>\n",
       "    </tr>\n",
       "    <tr>\n",
       "      <th>23479</th>\n",
       "      <td>100000.0</td>\n",
       "      <td>2</td>\n",
       "      <td>2</td>\n",
       "      <td>2</td>\n",
       "      <td>31</td>\n",
       "      <td>0</td>\n",
       "      <td>0</td>\n",
       "      <td>0</td>\n",
       "      <td>0</td>\n",
       "      <td>0</td>\n",
       "      <td>0</td>\n",
       "      <td>91344.0</td>\n",
       "      <td>92309.0</td>\n",
       "      <td>94421.0</td>\n",
       "      <td>97486.0</td>\n",
       "      <td>97604.0</td>\n",
       "      <td>97241.0</td>\n",
       "      <td>3309.0</td>\n",
       "      <td>4421.0</td>\n",
       "      <td>5486.0</td>\n",
       "      <td>3400.0</td>\n",
       "      <td>3541.0</td>\n",
       "      <td>3894.0</td>\n",
       "    </tr>\n",
       "    <tr>\n",
       "      <th>13921</th>\n",
       "      <td>120000.0</td>\n",
       "      <td>2</td>\n",
       "      <td>2</td>\n",
       "      <td>2</td>\n",
       "      <td>24</td>\n",
       "      <td>0</td>\n",
       "      <td>0</td>\n",
       "      <td>0</td>\n",
       "      <td>0</td>\n",
       "      <td>0</td>\n",
       "      <td>2</td>\n",
       "      <td>112336.0</td>\n",
       "      <td>113351.0</td>\n",
       "      <td>115515.0</td>\n",
       "      <td>113948.0</td>\n",
       "      <td>122127.0</td>\n",
       "      <td>121962.0</td>\n",
       "      <td>4200.0</td>\n",
       "      <td>4100.0</td>\n",
       "      <td>4100.0</td>\n",
       "      <td>10000.0</td>\n",
       "      <td>4560.0</td>\n",
       "      <td>0.0</td>\n",
       "    </tr>\n",
       "    <tr>\n",
       "      <th>3794</th>\n",
       "      <td>120000.0</td>\n",
       "      <td>2</td>\n",
       "      <td>1</td>\n",
       "      <td>2</td>\n",
       "      <td>24</td>\n",
       "      <td>0</td>\n",
       "      <td>0</td>\n",
       "      <td>0</td>\n",
       "      <td>0</td>\n",
       "      <td>0</td>\n",
       "      <td>0</td>\n",
       "      <td>75796.0</td>\n",
       "      <td>76004.0</td>\n",
       "      <td>67187.0</td>\n",
       "      <td>49924.0</td>\n",
       "      <td>33188.0</td>\n",
       "      <td>19826.0</td>\n",
       "      <td>3700.0</td>\n",
       "      <td>2023.0</td>\n",
       "      <td>2016.0</td>\n",
       "      <td>2000.0</td>\n",
       "      <td>1200.0</td>\n",
       "      <td>1000.0</td>\n",
       "    </tr>\n",
       "    <tr>\n",
       "      <th>27565</th>\n",
       "      <td>360000.0</td>\n",
       "      <td>1</td>\n",
       "      <td>1</td>\n",
       "      <td>1</td>\n",
       "      <td>57</td>\n",
       "      <td>1</td>\n",
       "      <td>-2</td>\n",
       "      <td>-1</td>\n",
       "      <td>-1</td>\n",
       "      <td>-1</td>\n",
       "      <td>-2</td>\n",
       "      <td>0.0</td>\n",
       "      <td>0.0</td>\n",
       "      <td>860.0</td>\n",
       "      <td>246.0</td>\n",
       "      <td>-46.0</td>\n",
       "      <td>-46.0</td>\n",
       "      <td>0.0</td>\n",
       "      <td>860.0</td>\n",
       "      <td>246.0</td>\n",
       "      <td>0.0</td>\n",
       "      <td>0.0</td>\n",
       "      <td>0.0</td>\n",
       "    </tr>\n",
       "    <tr>\n",
       "      <th>27126</th>\n",
       "      <td>300000.0</td>\n",
       "      <td>1</td>\n",
       "      <td>1</td>\n",
       "      <td>1</td>\n",
       "      <td>35</td>\n",
       "      <td>-1</td>\n",
       "      <td>-1</td>\n",
       "      <td>-1</td>\n",
       "      <td>-1</td>\n",
       "      <td>-2</td>\n",
       "      <td>-2</td>\n",
       "      <td>1246.0</td>\n",
       "      <td>1217.0</td>\n",
       "      <td>338.0</td>\n",
       "      <td>0.0</td>\n",
       "      <td>0.0</td>\n",
       "      <td>0.0</td>\n",
       "      <td>1217.0</td>\n",
       "      <td>338.0</td>\n",
       "      <td>0.0</td>\n",
       "      <td>0.0</td>\n",
       "      <td>0.0</td>\n",
       "      <td>0.0</td>\n",
       "    </tr>\n",
       "  </tbody>\n",
       "</table>\n",
       "<p>24000 rows × 23 columns</p>\n",
       "</div>"
      ],
      "text/plain": [
       "       LIMIT_BAL  SEX  EDUCATION  MARRIAGE  AGE  PAY_0  PAY_2  PAY_3  PAY_4  \\\n",
       "22788   160000.0    2          2         2   33      2      2      3      2   \n",
       "29006   150000.0    2          1         2   34      1     -1     -1     -2   \n",
       "16950    10000.0    1          2         1   50      1      2      0      0   \n",
       "22280   220000.0    2          1         2   29      0      0      0      0   \n",
       "11346   310000.0    2          1         2   32      1     -2     -1      0   \n",
       "...          ...  ...        ...       ...  ...    ...    ...    ...    ...   \n",
       "23479   100000.0    2          2         2   31      0      0      0      0   \n",
       "13921   120000.0    2          2         2   24      0      0      0      0   \n",
       "3794    120000.0    2          1         2   24      0      0      0      0   \n",
       "27565   360000.0    1          1         1   57      1     -2     -1     -1   \n",
       "27126   300000.0    1          1         1   35     -1     -1     -1     -1   \n",
       "\n",
       "       PAY_5  PAY_6  BILL_AMT1  BILL_AMT2  BILL_AMT3  BILL_AMT4  BILL_AMT5  \\\n",
       "22788      0      0   161771.0   172632.0   168541.0   164310.0   162681.0   \n",
       "29006     -2     -2        0.0       53.0        0.0        0.0        0.0   \n",
       "16950      0      0    10171.0     8150.0     8446.0     8067.0     8227.0   \n",
       "22280      0      0   206879.0   211037.0   215139.0   218513.0   131660.0   \n",
       "11346      0     -2        0.0        0.0      326.0      326.0     -235.0   \n",
       "...      ...    ...        ...        ...        ...        ...        ...   \n",
       "23479      0      0    91344.0    92309.0    94421.0    97486.0    97604.0   \n",
       "13921      0      2   112336.0   113351.0   115515.0   113948.0   122127.0   \n",
       "3794       0      0    75796.0    76004.0    67187.0    49924.0    33188.0   \n",
       "27565     -1     -2        0.0        0.0      860.0      246.0      -46.0   \n",
       "27126     -2     -2     1246.0     1217.0      338.0        0.0        0.0   \n",
       "\n",
       "       BILL_AMT6  PAY_AMT1  PAY_AMT2  PAY_AMT3  PAY_AMT4  PAY_AMT5  PAY_AMT6  \n",
       "22788   163005.0   15000.0       0.0       0.0    6100.0   12300.0    6100.0  \n",
       "29006        0.0      53.0       0.0       0.0       0.0       0.0       0.0  \n",
       "16950     8400.0       2.0    1281.0    1134.0     294.0     305.0    1000.0  \n",
       "22280   134346.0    9100.0    9000.0    7887.0    4800.0    4900.0    6000.0  \n",
       "11346     -235.0       0.0     326.0       0.0       0.0       0.0    1200.0  \n",
       "...          ...       ...       ...       ...       ...       ...       ...  \n",
       "23479    97241.0    3309.0    4421.0    5486.0    3400.0    3541.0    3894.0  \n",
       "13921   121962.0    4200.0    4100.0    4100.0   10000.0    4560.0       0.0  \n",
       "3794     19826.0    3700.0    2023.0    2016.0    2000.0    1200.0    1000.0  \n",
       "27565      -46.0       0.0     860.0     246.0       0.0       0.0       0.0  \n",
       "27126        0.0    1217.0     338.0       0.0       0.0       0.0       0.0  \n",
       "\n",
       "[24000 rows x 23 columns]"
      ]
     },
     "execution_count": 413,
     "metadata": {},
     "output_type": "execute_result"
    }
   ],
   "source": [
    "X_train"
   ]
  },
  {
   "cell_type": "code",
   "execution_count": 414,
   "metadata": {},
   "outputs": [],
   "source": [
    "Tree = DecisionTreeClassifier(criterion= 'gini', max_depth= 7, \n",
    "                                     max_features= 9, min_samples_leaf= 2, \n",
    "                                     random_state=0)\n",
    "Tree.fit(X_train, y_train)\n",
    "\n",
    "# Predict\n",
    "y_pred = Tree.predict(X_test)\n",
    "\n",
    "# Predict Proba\n",
    "y_pred_prob = Tree.predict_proba(X_test)[:,1]"
   ]
  },
  {
   "cell_type": "code",
   "execution_count": null,
   "metadata": {},
   "outputs": [],
   "source": []
  },
  {
   "cell_type": "code",
   "execution_count": null,
   "metadata": {},
   "outputs": [],
   "source": []
  },
  {
   "cell_type": "markdown",
   "metadata": {},
   "source": [
    "## Viewing some metrics"
   ]
  },
  {
   "cell_type": "code",
   "execution_count": 415,
   "metadata": {},
   "outputs": [
    {
     "name": "stdout",
     "output_type": "stream",
     "text": [
      "Acurácia: 0.808\n",
      "AUC: 1.0\n",
      "F1: 1.0\n"
     ]
    }
   ],
   "source": [
    "from sklearn.metrics import accuracy_score\n",
    "from sklearn.metrics import roc_auc_score\n",
    "from sklearn.metrics import f1_score\n",
    "\n",
    "\n",
    "print('Acurácia:', round(accuracy_score(y_pred, y_test), 4))\n",
    "print('AUC:', round(roc_auc_score(y_pred, y_pred_prob), 4))\n",
    "print('F1:', round(f1_score(y_pred, y_pred), 4))"
   ]
  },
  {
   "cell_type": "markdown",
   "metadata": {},
   "source": [
    "### Plot ROC"
   ]
  },
  {
   "cell_type": "code",
   "execution_count": 416,
   "metadata": {},
   "outputs": [],
   "source": [
    "from sklearn.metrics import roc_curve\n",
    "import plotly.graph_objects as go\n",
    "\n",
    "false_positive_rate, true_positive_rate, _ = roc_curve(y_test, y_pred_prob)\n",
    "\n",
    "fig = go.Figure()\n",
    "fig.add_trace(\n",
    "    go.Scatter(\n",
    "        x= false_positive_rate,\n",
    "        y= true_positive_rate,\n",
    "        mode='lines',\n",
    "        name='ROC curve'))\n",
    "fig.add_trace(\n",
    "    go.Scatter(\n",
    "        x= [0, 1],\n",
    "        y= [0, 1],\n",
    "        line = dict(dash= 'dash'),\n",
    "        name='0.5'))\n",
    "pass"
   ]
  },
  {
   "cell_type": "code",
   "execution_count": 417,
   "metadata": {},
   "outputs": [
    {
     "data": {
      "application/vnd.plotly.v1+json": {
       "config": {
        "plotlyServerURL": "https://plot.ly"
       },
       "data": [
        {
         "mode": "lines",
         "name": "ROC curve",
         "type": "scatter",
         "x": [
          0,
          0.0008559811684142949,
          0.001497967044725016,
          0.002353948213139311,
          0.0034239246736571796,
          0.004065910549967901,
          0.005349882302589343,
          0.006633854055210785,
          0.018617590413010913,
          0.01883158570511449,
          0.01968756687352878,
          0.020971538626150223,
          0.02696340680505029,
          0.02888936443398245,
          0.029531350310293174,
          0.030173336186603894,
          0.03060132677081104,
          0.03274127969184678,
          0.04301305371281832,
          0.046864968970682645,
          0.05606676653113631,
          0.05756473357586133,
          0.05799272416006848,
          0.05884870532848277,
          0.07725230044939012,
          0.08196019687566873,
          0.08581211213353306,
          0.08859405093087952,
          0.09030601326770811,
          0.09544190027819388,
          0.09586989086240102,
          0.09758185319922962,
          0.09822383907554033,
          0.1018617590413011,
          0.10678365075968328,
          0.1448748127541194,
          0.14508880804622298,
          0.146586775090948,
          0.14680077038305156,
          0.15108067622512306,
          0.15129467151722661,
          0.1515086668093302,
          0.16242242670661244,
          0.16349240316713032,
          0.2591482987374278,
          0.2704900492189172,
          0.2784078750267494,
          0.29937941365289966,
          0.29937941365289966,
          0.30237534774234964,
          0.3028033383265568,
          0.3126471217633212,
          0.3201369569869463,
          0.38412154932591486,
          0.46608174620158355,
          0.46864968970682647,
          0.5784292745559597,
          0.5805692274769955,
          0.5805692274769955,
          0.5814252086454098,
          0.5829231756901349,
          0.6126685212925316,
          0.9576289321634924,
          0.9927241600684785,
          0.9974320564947571,
          0.9978600470789643,
          1
         ],
         "y": [
          0,
          0.006782215523737754,
          0.023360964581763375,
          0.0346646571213263,
          0.04144687264506405,
          0.04220045214770158,
          0.04220045214770158,
          0.05576488319517709,
          0.17030896759608138,
          0.1710625470987189,
          0.17633760361718162,
          0.18764129615674455,
          0.22381311228334588,
          0.22758100979653353,
          0.22758100979653353,
          0.23059532780708364,
          0.2351168048229088,
          0.24566691785983422,
          0.2863602110022607,
          0.30143180105501133,
          0.32931424265259984,
          0.333835719668425,
          0.33685003767897514,
          0.34287867370007535,
          0.37980406932931426,
          0.3911077618688772,
          0.39939713639789,
          0.40617935192162774,
          0.4069329314242653,
          0.41974378296910325,
          0.41974378296910325,
          0.4250188394875659,
          0.42577241899020346,
          0.4423511680482291,
          0.45139412207987945,
          0.5109269027882442,
          0.5116804822908817,
          0.5154483798040693,
          0.5169555388093444,
          0.5214770158251696,
          0.5214770158251696,
          0.5237377543330821,
          0.53353428786737,
          0.5373021853805576,
          0.6307460437076111,
          0.6375282592313489,
          0.6450640542577242,
          0.66767143933685,
          0.6684250188394876,
          0.6699321778447627,
          0.6729464958553127,
          0.6834966088922382,
          0.6895252449133383,
          0.7151469480030144,
          0.7633760361718162,
          0.7641296156744537,
          0.8409947249434815,
          0.841748304446119,
          0.8440090429540317,
          0.8447626224566692,
          0.8462697814619442,
          0.8522984174830445,
          0.9683496608892238,
          0.9819140919366993,
          0.9886963074604371,
          0.9932177844762623,
          1
         ]
        },
        {
         "line": {
          "dash": "dash"
         },
         "name": "0.5",
         "type": "scatter",
         "x": [
          0,
          1
         ],
         "y": [
          0,
          1
         ]
        }
       ],
       "layout": {
        "template": {
         "data": {
          "bar": [
           {
            "error_x": {
             "color": "#2a3f5f"
            },
            "error_y": {
             "color": "#2a3f5f"
            },
            "marker": {
             "line": {
              "color": "#E5ECF6",
              "width": 0.5
             }
            },
            "type": "bar"
           }
          ],
          "barpolar": [
           {
            "marker": {
             "line": {
              "color": "#E5ECF6",
              "width": 0.5
             }
            },
            "type": "barpolar"
           }
          ],
          "carpet": [
           {
            "aaxis": {
             "endlinecolor": "#2a3f5f",
             "gridcolor": "white",
             "linecolor": "white",
             "minorgridcolor": "white",
             "startlinecolor": "#2a3f5f"
            },
            "baxis": {
             "endlinecolor": "#2a3f5f",
             "gridcolor": "white",
             "linecolor": "white",
             "minorgridcolor": "white",
             "startlinecolor": "#2a3f5f"
            },
            "type": "carpet"
           }
          ],
          "choropleth": [
           {
            "colorbar": {
             "outlinewidth": 0,
             "ticks": ""
            },
            "type": "choropleth"
           }
          ],
          "contour": [
           {
            "colorbar": {
             "outlinewidth": 0,
             "ticks": ""
            },
            "colorscale": [
             [
              0,
              "#0d0887"
             ],
             [
              0.1111111111111111,
              "#46039f"
             ],
             [
              0.2222222222222222,
              "#7201a8"
             ],
             [
              0.3333333333333333,
              "#9c179e"
             ],
             [
              0.4444444444444444,
              "#bd3786"
             ],
             [
              0.5555555555555556,
              "#d8576b"
             ],
             [
              0.6666666666666666,
              "#ed7953"
             ],
             [
              0.7777777777777778,
              "#fb9f3a"
             ],
             [
              0.8888888888888888,
              "#fdca26"
             ],
             [
              1,
              "#f0f921"
             ]
            ],
            "type": "contour"
           }
          ],
          "contourcarpet": [
           {
            "colorbar": {
             "outlinewidth": 0,
             "ticks": ""
            },
            "type": "contourcarpet"
           }
          ],
          "heatmap": [
           {
            "colorbar": {
             "outlinewidth": 0,
             "ticks": ""
            },
            "colorscale": [
             [
              0,
              "#0d0887"
             ],
             [
              0.1111111111111111,
              "#46039f"
             ],
             [
              0.2222222222222222,
              "#7201a8"
             ],
             [
              0.3333333333333333,
              "#9c179e"
             ],
             [
              0.4444444444444444,
              "#bd3786"
             ],
             [
              0.5555555555555556,
              "#d8576b"
             ],
             [
              0.6666666666666666,
              "#ed7953"
             ],
             [
              0.7777777777777778,
              "#fb9f3a"
             ],
             [
              0.8888888888888888,
              "#fdca26"
             ],
             [
              1,
              "#f0f921"
             ]
            ],
            "type": "heatmap"
           }
          ],
          "heatmapgl": [
           {
            "colorbar": {
             "outlinewidth": 0,
             "ticks": ""
            },
            "colorscale": [
             [
              0,
              "#0d0887"
             ],
             [
              0.1111111111111111,
              "#46039f"
             ],
             [
              0.2222222222222222,
              "#7201a8"
             ],
             [
              0.3333333333333333,
              "#9c179e"
             ],
             [
              0.4444444444444444,
              "#bd3786"
             ],
             [
              0.5555555555555556,
              "#d8576b"
             ],
             [
              0.6666666666666666,
              "#ed7953"
             ],
             [
              0.7777777777777778,
              "#fb9f3a"
             ],
             [
              0.8888888888888888,
              "#fdca26"
             ],
             [
              1,
              "#f0f921"
             ]
            ],
            "type": "heatmapgl"
           }
          ],
          "histogram": [
           {
            "marker": {
             "colorbar": {
              "outlinewidth": 0,
              "ticks": ""
             }
            },
            "type": "histogram"
           }
          ],
          "histogram2d": [
           {
            "colorbar": {
             "outlinewidth": 0,
             "ticks": ""
            },
            "colorscale": [
             [
              0,
              "#0d0887"
             ],
             [
              0.1111111111111111,
              "#46039f"
             ],
             [
              0.2222222222222222,
              "#7201a8"
             ],
             [
              0.3333333333333333,
              "#9c179e"
             ],
             [
              0.4444444444444444,
              "#bd3786"
             ],
             [
              0.5555555555555556,
              "#d8576b"
             ],
             [
              0.6666666666666666,
              "#ed7953"
             ],
             [
              0.7777777777777778,
              "#fb9f3a"
             ],
             [
              0.8888888888888888,
              "#fdca26"
             ],
             [
              1,
              "#f0f921"
             ]
            ],
            "type": "histogram2d"
           }
          ],
          "histogram2dcontour": [
           {
            "colorbar": {
             "outlinewidth": 0,
             "ticks": ""
            },
            "colorscale": [
             [
              0,
              "#0d0887"
             ],
             [
              0.1111111111111111,
              "#46039f"
             ],
             [
              0.2222222222222222,
              "#7201a8"
             ],
             [
              0.3333333333333333,
              "#9c179e"
             ],
             [
              0.4444444444444444,
              "#bd3786"
             ],
             [
              0.5555555555555556,
              "#d8576b"
             ],
             [
              0.6666666666666666,
              "#ed7953"
             ],
             [
              0.7777777777777778,
              "#fb9f3a"
             ],
             [
              0.8888888888888888,
              "#fdca26"
             ],
             [
              1,
              "#f0f921"
             ]
            ],
            "type": "histogram2dcontour"
           }
          ],
          "mesh3d": [
           {
            "colorbar": {
             "outlinewidth": 0,
             "ticks": ""
            },
            "type": "mesh3d"
           }
          ],
          "parcoords": [
           {
            "line": {
             "colorbar": {
              "outlinewidth": 0,
              "ticks": ""
             }
            },
            "type": "parcoords"
           }
          ],
          "pie": [
           {
            "automargin": true,
            "type": "pie"
           }
          ],
          "scatter": [
           {
            "marker": {
             "colorbar": {
              "outlinewidth": 0,
              "ticks": ""
             }
            },
            "type": "scatter"
           }
          ],
          "scatter3d": [
           {
            "line": {
             "colorbar": {
              "outlinewidth": 0,
              "ticks": ""
             }
            },
            "marker": {
             "colorbar": {
              "outlinewidth": 0,
              "ticks": ""
             }
            },
            "type": "scatter3d"
           }
          ],
          "scattercarpet": [
           {
            "marker": {
             "colorbar": {
              "outlinewidth": 0,
              "ticks": ""
             }
            },
            "type": "scattercarpet"
           }
          ],
          "scattergeo": [
           {
            "marker": {
             "colorbar": {
              "outlinewidth": 0,
              "ticks": ""
             }
            },
            "type": "scattergeo"
           }
          ],
          "scattergl": [
           {
            "marker": {
             "colorbar": {
              "outlinewidth": 0,
              "ticks": ""
             }
            },
            "type": "scattergl"
           }
          ],
          "scattermapbox": [
           {
            "marker": {
             "colorbar": {
              "outlinewidth": 0,
              "ticks": ""
             }
            },
            "type": "scattermapbox"
           }
          ],
          "scatterpolar": [
           {
            "marker": {
             "colorbar": {
              "outlinewidth": 0,
              "ticks": ""
             }
            },
            "type": "scatterpolar"
           }
          ],
          "scatterpolargl": [
           {
            "marker": {
             "colorbar": {
              "outlinewidth": 0,
              "ticks": ""
             }
            },
            "type": "scatterpolargl"
           }
          ],
          "scatterternary": [
           {
            "marker": {
             "colorbar": {
              "outlinewidth": 0,
              "ticks": ""
             }
            },
            "type": "scatterternary"
           }
          ],
          "surface": [
           {
            "colorbar": {
             "outlinewidth": 0,
             "ticks": ""
            },
            "colorscale": [
             [
              0,
              "#0d0887"
             ],
             [
              0.1111111111111111,
              "#46039f"
             ],
             [
              0.2222222222222222,
              "#7201a8"
             ],
             [
              0.3333333333333333,
              "#9c179e"
             ],
             [
              0.4444444444444444,
              "#bd3786"
             ],
             [
              0.5555555555555556,
              "#d8576b"
             ],
             [
              0.6666666666666666,
              "#ed7953"
             ],
             [
              0.7777777777777778,
              "#fb9f3a"
             ],
             [
              0.8888888888888888,
              "#fdca26"
             ],
             [
              1,
              "#f0f921"
             ]
            ],
            "type": "surface"
           }
          ],
          "table": [
           {
            "cells": {
             "fill": {
              "color": "#EBF0F8"
             },
             "line": {
              "color": "white"
             }
            },
            "header": {
             "fill": {
              "color": "#C8D4E3"
             },
             "line": {
              "color": "white"
             }
            },
            "type": "table"
           }
          ]
         },
         "layout": {
          "annotationdefaults": {
           "arrowcolor": "#2a3f5f",
           "arrowhead": 0,
           "arrowwidth": 1
          },
          "autotypenumbers": "strict",
          "coloraxis": {
           "colorbar": {
            "outlinewidth": 0,
            "ticks": ""
           }
          },
          "colorscale": {
           "diverging": [
            [
             0,
             "#8e0152"
            ],
            [
             0.1,
             "#c51b7d"
            ],
            [
             0.2,
             "#de77ae"
            ],
            [
             0.3,
             "#f1b6da"
            ],
            [
             0.4,
             "#fde0ef"
            ],
            [
             0.5,
             "#f7f7f7"
            ],
            [
             0.6,
             "#e6f5d0"
            ],
            [
             0.7,
             "#b8e186"
            ],
            [
             0.8,
             "#7fbc41"
            ],
            [
             0.9,
             "#4d9221"
            ],
            [
             1,
             "#276419"
            ]
           ],
           "sequential": [
            [
             0,
             "#0d0887"
            ],
            [
             0.1111111111111111,
             "#46039f"
            ],
            [
             0.2222222222222222,
             "#7201a8"
            ],
            [
             0.3333333333333333,
             "#9c179e"
            ],
            [
             0.4444444444444444,
             "#bd3786"
            ],
            [
             0.5555555555555556,
             "#d8576b"
            ],
            [
             0.6666666666666666,
             "#ed7953"
            ],
            [
             0.7777777777777778,
             "#fb9f3a"
            ],
            [
             0.8888888888888888,
             "#fdca26"
            ],
            [
             1,
             "#f0f921"
            ]
           ],
           "sequentialminus": [
            [
             0,
             "#0d0887"
            ],
            [
             0.1111111111111111,
             "#46039f"
            ],
            [
             0.2222222222222222,
             "#7201a8"
            ],
            [
             0.3333333333333333,
             "#9c179e"
            ],
            [
             0.4444444444444444,
             "#bd3786"
            ],
            [
             0.5555555555555556,
             "#d8576b"
            ],
            [
             0.6666666666666666,
             "#ed7953"
            ],
            [
             0.7777777777777778,
             "#fb9f3a"
            ],
            [
             0.8888888888888888,
             "#fdca26"
            ],
            [
             1,
             "#f0f921"
            ]
           ]
          },
          "colorway": [
           "#636efa",
           "#EF553B",
           "#00cc96",
           "#ab63fa",
           "#FFA15A",
           "#19d3f3",
           "#FF6692",
           "#B6E880",
           "#FF97FF",
           "#FECB52"
          ],
          "font": {
           "color": "#2a3f5f"
          },
          "geo": {
           "bgcolor": "white",
           "lakecolor": "white",
           "landcolor": "#E5ECF6",
           "showlakes": true,
           "showland": true,
           "subunitcolor": "white"
          },
          "hoverlabel": {
           "align": "left"
          },
          "hovermode": "closest",
          "mapbox": {
           "style": "light"
          },
          "paper_bgcolor": "white",
          "plot_bgcolor": "#E5ECF6",
          "polar": {
           "angularaxis": {
            "gridcolor": "white",
            "linecolor": "white",
            "ticks": ""
           },
           "bgcolor": "#E5ECF6",
           "radialaxis": {
            "gridcolor": "white",
            "linecolor": "white",
            "ticks": ""
           }
          },
          "scene": {
           "xaxis": {
            "backgroundcolor": "#E5ECF6",
            "gridcolor": "white",
            "gridwidth": 2,
            "linecolor": "white",
            "showbackground": true,
            "ticks": "",
            "zerolinecolor": "white"
           },
           "yaxis": {
            "backgroundcolor": "#E5ECF6",
            "gridcolor": "white",
            "gridwidth": 2,
            "linecolor": "white",
            "showbackground": true,
            "ticks": "",
            "zerolinecolor": "white"
           },
           "zaxis": {
            "backgroundcolor": "#E5ECF6",
            "gridcolor": "white",
            "gridwidth": 2,
            "linecolor": "white",
            "showbackground": true,
            "ticks": "",
            "zerolinecolor": "white"
           }
          },
          "shapedefaults": {
           "line": {
            "color": "#2a3f5f"
           }
          },
          "ternary": {
           "aaxis": {
            "gridcolor": "white",
            "linecolor": "white",
            "ticks": ""
           },
           "baxis": {
            "gridcolor": "white",
            "linecolor": "white",
            "ticks": ""
           },
           "bgcolor": "#E5ECF6",
           "caxis": {
            "gridcolor": "white",
            "linecolor": "white",
            "ticks": ""
           }
          },
          "title": {
           "x": 0.05
          },
          "xaxis": {
           "automargin": true,
           "gridcolor": "white",
           "linecolor": "white",
           "ticks": "",
           "title": {
            "standoff": 15
           },
           "zerolinecolor": "white",
           "zerolinewidth": 2
          },
          "yaxis": {
           "automargin": true,
           "gridcolor": "white",
           "linecolor": "white",
           "ticks": "",
           "title": {
            "standoff": 15
           },
           "zerolinecolor": "white",
           "zerolinewidth": 2
          }
         }
        }
       }
      },
      "text/html": [
       "<div>                            <div id=\"941554f4-dc48-4c1a-9a57-899464bf99a6\" class=\"plotly-graph-div\" style=\"height:525px; width:100%;\"></div>            <script type=\"text/javascript\">                require([\"plotly\"], function(Plotly) {                    window.PLOTLYENV=window.PLOTLYENV || {};                                    if (document.getElementById(\"941554f4-dc48-4c1a-9a57-899464bf99a6\")) {                    Plotly.newPlot(                        \"941554f4-dc48-4c1a-9a57-899464bf99a6\",                        [{\"mode\": \"lines\", \"name\": \"ROC curve\", \"type\": \"scatter\", \"x\": [0.0, 0.0008559811684142949, 0.001497967044725016, 0.002353948213139311, 0.0034239246736571796, 0.004065910549967901, 0.005349882302589343, 0.006633854055210785, 0.018617590413010913, 0.01883158570511449, 0.01968756687352878, 0.020971538626150223, 0.02696340680505029, 0.02888936443398245, 0.029531350310293174, 0.030173336186603894, 0.03060132677081104, 0.03274127969184678, 0.04301305371281832, 0.046864968970682645, 0.05606676653113631, 0.05756473357586133, 0.05799272416006848, 0.05884870532848277, 0.07725230044939012, 0.08196019687566873, 0.08581211213353306, 0.08859405093087952, 0.09030601326770811, 0.09544190027819388, 0.09586989086240102, 0.09758185319922962, 0.09822383907554033, 0.1018617590413011, 0.10678365075968328, 0.1448748127541194, 0.14508880804622298, 0.146586775090948, 0.14680077038305156, 0.15108067622512306, 0.15129467151722661, 0.1515086668093302, 0.16242242670661244, 0.16349240316713032, 0.2591482987374278, 0.2704900492189172, 0.2784078750267494, 0.29937941365289966, 0.29937941365289966, 0.30237534774234964, 0.3028033383265568, 0.3126471217633212, 0.3201369569869463, 0.38412154932591486, 0.46608174620158355, 0.46864968970682647, 0.5784292745559597, 0.5805692274769955, 0.5805692274769955, 0.5814252086454098, 0.5829231756901349, 0.6126685212925316, 0.9576289321634924, 0.9927241600684785, 0.9974320564947571, 0.9978600470789643, 1.0], \"y\": [0.0, 0.006782215523737754, 0.023360964581763375, 0.0346646571213263, 0.04144687264506405, 0.04220045214770158, 0.04220045214770158, 0.05576488319517709, 0.17030896759608138, 0.1710625470987189, 0.17633760361718162, 0.18764129615674455, 0.22381311228334588, 0.22758100979653353, 0.22758100979653353, 0.23059532780708364, 0.2351168048229088, 0.24566691785983422, 0.2863602110022607, 0.30143180105501133, 0.32931424265259984, 0.333835719668425, 0.33685003767897514, 0.34287867370007535, 0.37980406932931426, 0.3911077618688772, 0.39939713639789, 0.40617935192162774, 0.4069329314242653, 0.41974378296910325, 0.41974378296910325, 0.4250188394875659, 0.42577241899020346, 0.4423511680482291, 0.45139412207987945, 0.5109269027882442, 0.5116804822908817, 0.5154483798040693, 0.5169555388093444, 0.5214770158251696, 0.5214770158251696, 0.5237377543330821, 0.53353428786737, 0.5373021853805576, 0.6307460437076111, 0.6375282592313489, 0.6450640542577242, 0.66767143933685, 0.6684250188394876, 0.6699321778447627, 0.6729464958553127, 0.6834966088922382, 0.6895252449133383, 0.7151469480030144, 0.7633760361718162, 0.7641296156744537, 0.8409947249434815, 0.841748304446119, 0.8440090429540317, 0.8447626224566692, 0.8462697814619442, 0.8522984174830445, 0.9683496608892238, 0.9819140919366993, 0.9886963074604371, 0.9932177844762623, 1.0]}, {\"line\": {\"dash\": \"dash\"}, \"name\": \"0.5\", \"type\": \"scatter\", \"x\": [0, 1], \"y\": [0, 1]}],                        {\"template\": {\"data\": {\"bar\": [{\"error_x\": {\"color\": \"#2a3f5f\"}, \"error_y\": {\"color\": \"#2a3f5f\"}, \"marker\": {\"line\": {\"color\": \"#E5ECF6\", \"width\": 0.5}}, \"type\": \"bar\"}], \"barpolar\": [{\"marker\": {\"line\": {\"color\": \"#E5ECF6\", \"width\": 0.5}}, \"type\": \"barpolar\"}], \"carpet\": [{\"aaxis\": {\"endlinecolor\": \"#2a3f5f\", \"gridcolor\": \"white\", \"linecolor\": \"white\", \"minorgridcolor\": \"white\", \"startlinecolor\": \"#2a3f5f\"}, \"baxis\": {\"endlinecolor\": \"#2a3f5f\", \"gridcolor\": \"white\", \"linecolor\": \"white\", \"minorgridcolor\": \"white\", \"startlinecolor\": \"#2a3f5f\"}, \"type\": \"carpet\"}], \"choropleth\": [{\"colorbar\": {\"outlinewidth\": 0, \"ticks\": \"\"}, \"type\": \"choropleth\"}], \"contour\": [{\"colorbar\": {\"outlinewidth\": 0, \"ticks\": \"\"}, \"colorscale\": [[0.0, \"#0d0887\"], [0.1111111111111111, \"#46039f\"], [0.2222222222222222, \"#7201a8\"], [0.3333333333333333, \"#9c179e\"], [0.4444444444444444, \"#bd3786\"], [0.5555555555555556, \"#d8576b\"], [0.6666666666666666, \"#ed7953\"], [0.7777777777777778, \"#fb9f3a\"], [0.8888888888888888, \"#fdca26\"], [1.0, \"#f0f921\"]], \"type\": \"contour\"}], \"contourcarpet\": [{\"colorbar\": {\"outlinewidth\": 0, \"ticks\": \"\"}, \"type\": \"contourcarpet\"}], \"heatmap\": [{\"colorbar\": {\"outlinewidth\": 0, \"ticks\": \"\"}, \"colorscale\": [[0.0, \"#0d0887\"], [0.1111111111111111, \"#46039f\"], [0.2222222222222222, \"#7201a8\"], [0.3333333333333333, \"#9c179e\"], [0.4444444444444444, \"#bd3786\"], [0.5555555555555556, \"#d8576b\"], [0.6666666666666666, \"#ed7953\"], [0.7777777777777778, \"#fb9f3a\"], [0.8888888888888888, \"#fdca26\"], [1.0, \"#f0f921\"]], \"type\": \"heatmap\"}], \"heatmapgl\": [{\"colorbar\": {\"outlinewidth\": 0, \"ticks\": \"\"}, \"colorscale\": [[0.0, \"#0d0887\"], [0.1111111111111111, \"#46039f\"], [0.2222222222222222, \"#7201a8\"], [0.3333333333333333, \"#9c179e\"], [0.4444444444444444, \"#bd3786\"], [0.5555555555555556, \"#d8576b\"], [0.6666666666666666, \"#ed7953\"], [0.7777777777777778, \"#fb9f3a\"], [0.8888888888888888, \"#fdca26\"], [1.0, \"#f0f921\"]], \"type\": \"heatmapgl\"}], \"histogram\": [{\"marker\": {\"colorbar\": {\"outlinewidth\": 0, \"ticks\": \"\"}}, \"type\": \"histogram\"}], \"histogram2d\": [{\"colorbar\": {\"outlinewidth\": 0, \"ticks\": \"\"}, \"colorscale\": [[0.0, \"#0d0887\"], [0.1111111111111111, \"#46039f\"], [0.2222222222222222, \"#7201a8\"], [0.3333333333333333, \"#9c179e\"], [0.4444444444444444, \"#bd3786\"], [0.5555555555555556, \"#d8576b\"], [0.6666666666666666, \"#ed7953\"], [0.7777777777777778, \"#fb9f3a\"], [0.8888888888888888, \"#fdca26\"], [1.0, \"#f0f921\"]], \"type\": \"histogram2d\"}], \"histogram2dcontour\": [{\"colorbar\": {\"outlinewidth\": 0, \"ticks\": \"\"}, \"colorscale\": [[0.0, \"#0d0887\"], [0.1111111111111111, \"#46039f\"], [0.2222222222222222, \"#7201a8\"], [0.3333333333333333, \"#9c179e\"], [0.4444444444444444, \"#bd3786\"], [0.5555555555555556, \"#d8576b\"], [0.6666666666666666, \"#ed7953\"], [0.7777777777777778, \"#fb9f3a\"], [0.8888888888888888, \"#fdca26\"], [1.0, \"#f0f921\"]], \"type\": \"histogram2dcontour\"}], \"mesh3d\": [{\"colorbar\": {\"outlinewidth\": 0, \"ticks\": \"\"}, \"type\": \"mesh3d\"}], \"parcoords\": [{\"line\": {\"colorbar\": {\"outlinewidth\": 0, \"ticks\": \"\"}}, \"type\": \"parcoords\"}], \"pie\": [{\"automargin\": true, \"type\": \"pie\"}], \"scatter\": [{\"marker\": {\"colorbar\": {\"outlinewidth\": 0, \"ticks\": \"\"}}, \"type\": \"scatter\"}], \"scatter3d\": [{\"line\": {\"colorbar\": {\"outlinewidth\": 0, \"ticks\": \"\"}}, \"marker\": {\"colorbar\": {\"outlinewidth\": 0, \"ticks\": \"\"}}, \"type\": \"scatter3d\"}], \"scattercarpet\": [{\"marker\": {\"colorbar\": {\"outlinewidth\": 0, \"ticks\": \"\"}}, \"type\": \"scattercarpet\"}], \"scattergeo\": [{\"marker\": {\"colorbar\": {\"outlinewidth\": 0, \"ticks\": \"\"}}, \"type\": \"scattergeo\"}], \"scattergl\": [{\"marker\": {\"colorbar\": {\"outlinewidth\": 0, \"ticks\": \"\"}}, \"type\": \"scattergl\"}], \"scattermapbox\": [{\"marker\": {\"colorbar\": {\"outlinewidth\": 0, \"ticks\": \"\"}}, \"type\": \"scattermapbox\"}], \"scatterpolar\": [{\"marker\": {\"colorbar\": {\"outlinewidth\": 0, \"ticks\": \"\"}}, \"type\": \"scatterpolar\"}], \"scatterpolargl\": [{\"marker\": {\"colorbar\": {\"outlinewidth\": 0, \"ticks\": \"\"}}, \"type\": \"scatterpolargl\"}], \"scatterternary\": [{\"marker\": {\"colorbar\": {\"outlinewidth\": 0, \"ticks\": \"\"}}, \"type\": \"scatterternary\"}], \"surface\": [{\"colorbar\": {\"outlinewidth\": 0, \"ticks\": \"\"}, \"colorscale\": [[0.0, \"#0d0887\"], [0.1111111111111111, \"#46039f\"], [0.2222222222222222, \"#7201a8\"], [0.3333333333333333, \"#9c179e\"], [0.4444444444444444, \"#bd3786\"], [0.5555555555555556, \"#d8576b\"], [0.6666666666666666, \"#ed7953\"], [0.7777777777777778, \"#fb9f3a\"], [0.8888888888888888, \"#fdca26\"], [1.0, \"#f0f921\"]], \"type\": \"surface\"}], \"table\": [{\"cells\": {\"fill\": {\"color\": \"#EBF0F8\"}, \"line\": {\"color\": \"white\"}}, \"header\": {\"fill\": {\"color\": \"#C8D4E3\"}, \"line\": {\"color\": \"white\"}}, \"type\": \"table\"}]}, \"layout\": {\"annotationdefaults\": {\"arrowcolor\": \"#2a3f5f\", \"arrowhead\": 0, \"arrowwidth\": 1}, \"autotypenumbers\": \"strict\", \"coloraxis\": {\"colorbar\": {\"outlinewidth\": 0, \"ticks\": \"\"}}, \"colorscale\": {\"diverging\": [[0, \"#8e0152\"], [0.1, \"#c51b7d\"], [0.2, \"#de77ae\"], [0.3, \"#f1b6da\"], [0.4, \"#fde0ef\"], [0.5, \"#f7f7f7\"], [0.6, \"#e6f5d0\"], [0.7, \"#b8e186\"], [0.8, \"#7fbc41\"], [0.9, \"#4d9221\"], [1, \"#276419\"]], \"sequential\": [[0.0, \"#0d0887\"], [0.1111111111111111, \"#46039f\"], [0.2222222222222222, \"#7201a8\"], [0.3333333333333333, \"#9c179e\"], [0.4444444444444444, \"#bd3786\"], [0.5555555555555556, \"#d8576b\"], [0.6666666666666666, \"#ed7953\"], [0.7777777777777778, \"#fb9f3a\"], [0.8888888888888888, \"#fdca26\"], [1.0, \"#f0f921\"]], \"sequentialminus\": [[0.0, \"#0d0887\"], [0.1111111111111111, \"#46039f\"], [0.2222222222222222, \"#7201a8\"], [0.3333333333333333, \"#9c179e\"], [0.4444444444444444, \"#bd3786\"], [0.5555555555555556, \"#d8576b\"], [0.6666666666666666, \"#ed7953\"], [0.7777777777777778, \"#fb9f3a\"], [0.8888888888888888, \"#fdca26\"], [1.0, \"#f0f921\"]]}, \"colorway\": [\"#636efa\", \"#EF553B\", \"#00cc96\", \"#ab63fa\", \"#FFA15A\", \"#19d3f3\", \"#FF6692\", \"#B6E880\", \"#FF97FF\", \"#FECB52\"], \"font\": {\"color\": \"#2a3f5f\"}, \"geo\": {\"bgcolor\": \"white\", \"lakecolor\": \"white\", \"landcolor\": \"#E5ECF6\", \"showlakes\": true, \"showland\": true, \"subunitcolor\": \"white\"}, \"hoverlabel\": {\"align\": \"left\"}, \"hovermode\": \"closest\", \"mapbox\": {\"style\": \"light\"}, \"paper_bgcolor\": \"white\", \"plot_bgcolor\": \"#E5ECF6\", \"polar\": {\"angularaxis\": {\"gridcolor\": \"white\", \"linecolor\": \"white\", \"ticks\": \"\"}, \"bgcolor\": \"#E5ECF6\", \"radialaxis\": {\"gridcolor\": \"white\", \"linecolor\": \"white\", \"ticks\": \"\"}}, \"scene\": {\"xaxis\": {\"backgroundcolor\": \"#E5ECF6\", \"gridcolor\": \"white\", \"gridwidth\": 2, \"linecolor\": \"white\", \"showbackground\": true, \"ticks\": \"\", \"zerolinecolor\": \"white\"}, \"yaxis\": {\"backgroundcolor\": \"#E5ECF6\", \"gridcolor\": \"white\", \"gridwidth\": 2, \"linecolor\": \"white\", \"showbackground\": true, \"ticks\": \"\", \"zerolinecolor\": \"white\"}, \"zaxis\": {\"backgroundcolor\": \"#E5ECF6\", \"gridcolor\": \"white\", \"gridwidth\": 2, \"linecolor\": \"white\", \"showbackground\": true, \"ticks\": \"\", \"zerolinecolor\": \"white\"}}, \"shapedefaults\": {\"line\": {\"color\": \"#2a3f5f\"}}, \"ternary\": {\"aaxis\": {\"gridcolor\": \"white\", \"linecolor\": \"white\", \"ticks\": \"\"}, \"baxis\": {\"gridcolor\": \"white\", \"linecolor\": \"white\", \"ticks\": \"\"}, \"bgcolor\": \"#E5ECF6\", \"caxis\": {\"gridcolor\": \"white\", \"linecolor\": \"white\", \"ticks\": \"\"}}, \"title\": {\"x\": 0.05}, \"xaxis\": {\"automargin\": true, \"gridcolor\": \"white\", \"linecolor\": \"white\", \"ticks\": \"\", \"title\": {\"standoff\": 15}, \"zerolinecolor\": \"white\", \"zerolinewidth\": 2}, \"yaxis\": {\"automargin\": true, \"gridcolor\": \"white\", \"linecolor\": \"white\", \"ticks\": \"\", \"title\": {\"standoff\": 15}, \"zerolinecolor\": \"white\", \"zerolinewidth\": 2}}}},                        {\"responsive\": true}                    ).then(function(){\n",
       "                            \n",
       "var gd = document.getElementById('941554f4-dc48-4c1a-9a57-899464bf99a6');\n",
       "var x = new MutationObserver(function (mutations, observer) {{\n",
       "        var display = window.getComputedStyle(gd).display;\n",
       "        if (!display || display === 'none') {{\n",
       "            console.log([gd, 'removed!']);\n",
       "            Plotly.purge(gd);\n",
       "            observer.disconnect();\n",
       "        }}\n",
       "}});\n",
       "\n",
       "// Listen for the removal of the full notebook cells\n",
       "var notebookContainer = gd.closest('#notebook-container');\n",
       "if (notebookContainer) {{\n",
       "    x.observe(notebookContainer, {childList: true});\n",
       "}}\n",
       "\n",
       "// Listen for the clearing of the current output cell\n",
       "var outputEl = gd.closest('.output');\n",
       "if (outputEl) {{\n",
       "    x.observe(outputEl, {childList: true});\n",
       "}}\n",
       "\n",
       "                        })                };                });            </script>        </div>"
      ]
     },
     "metadata": {},
     "output_type": "display_data"
    }
   ],
   "source": [
    "fig.show()"
   ]
  },
  {
   "cell_type": "markdown",
   "metadata": {},
   "source": [
    "### Plot Precision-Recall Curve"
   ]
  },
  {
   "cell_type": "code",
   "execution_count": 418,
   "metadata": {},
   "outputs": [],
   "source": [
    "from sklearn.metrics import precision_recall_curve\n",
    "import plotly.graph_objects as go\n",
    "\n",
    "precision, recall, _ = precision_recall_curve(y_test, y_pred_prob)\n",
    "\n",
    "fig = go.Figure()\n",
    "fig.add_trace(\n",
    "    go.Scatter(\n",
    "        x= recall,\n",
    "        y= precision,\n",
    "        mode='lines',\n",
    "        name='PR curve'))\n",
    "fig.add_trace(\n",
    "    go.Scatter(\n",
    "        x= [0, 1],\n",
    "        y= [0, 0],\n",
    "        line = dict(dash= 'dash'),\n",
    "        name='0.0'))\n",
    "pass"
   ]
  },
  {
   "cell_type": "code",
   "execution_count": 419,
   "metadata": {},
   "outputs": [
    {
     "data": {
      "application/vnd.plotly.v1+json": {
       "config": {
        "plotlyServerURL": "https://plot.ly"
       },
       "data": [
        {
         "mode": "lines",
         "name": "PR curve",
         "type": "scatter",
         "x": [
          1,
          0.9932177844762623,
          0.9886963074604371,
          0.9819140919366993,
          0.9683496608892238,
          0.8522984174830445,
          0.8462697814619442,
          0.8447626224566692,
          0.8440090429540317,
          0.841748304446119,
          0.8409947249434815,
          0.7641296156744537,
          0.7633760361718162,
          0.7151469480030144,
          0.6895252449133383,
          0.6834966088922382,
          0.6729464958553127,
          0.6699321778447627,
          0.6684250188394876,
          0.66767143933685,
          0.6450640542577242,
          0.6375282592313489,
          0.6307460437076111,
          0.5373021853805576,
          0.53353428786737,
          0.5237377543330821,
          0.5214770158251696,
          0.5214770158251696,
          0.5169555388093444,
          0.5154483798040693,
          0.5116804822908817,
          0.5109269027882442,
          0.45139412207987945,
          0.4423511680482291,
          0.42577241899020346,
          0.4250188394875659,
          0.41974378296910325,
          0.41974378296910325,
          0.4069329314242653,
          0.40617935192162774,
          0.39939713639789,
          0.3911077618688772,
          0.37980406932931426,
          0.34287867370007535,
          0.33685003767897514,
          0.333835719668425,
          0.32931424265259984,
          0.30143180105501133,
          0.2863602110022607,
          0.24566691785983422,
          0.2351168048229088,
          0.23059532780708364,
          0.22758100979653353,
          0.22758100979653353,
          0.22381311228334588,
          0.18764129615674455,
          0.17633760361718162,
          0.1710625470987189,
          0.17030896759608138,
          0.05576488319517709,
          0.04220045214770158,
          0.04220045214770158,
          0.04144687264506405,
          0.0346646571213263,
          0.023360964581763375,
          0.006782215523737754,
          0
         ],
         "y": [
          0.22116666666666668,
          0.220364487543889,
          0.219655114682739,
          0.219286435543588,
          0.2230902777777778,
          0.2831747621432148,
          0.2919157785287237,
          0.29207920792079206,
          0.2921993216801461,
          0.29164490861618797,
          0.2922230950510605,
          0.31647940074906367,
          0.31745534315261675,
          0.3458454810495627,
          0.3795105765242638,
          0.38302364864864863,
          0.3869150779896014,
          0.3861859252823632,
          0.3880139982502187,
          0.387746170678337,
          0.39684747334260545,
          0.4009478672985782,
          0.40869140625,
          0.4827352742044685,
          0.48261758691206547,
          0.4953670705630791,
          0.49463902787705505,
          0.4949928469241774,
          0.5,
          0.4996347699050402,
          0.5003684598378777,
          0.5003690036900369,
          0.5455373406193078,
          0.5522107243650047,
          0.5517578125,
          0.5529411764705883,
          0.554228855721393,
          0.555333998005982,
          0.5613305613305614,
          0.565582371458552,
          0.569280343716434,
          0.5753880266075388,
          0.5826589595375723,
          0.6232876712328768,
          0.6225626740947076,
          0.6221910112359551,
          0.6251788268955651,
          0.6462035541195477,
          0.6540447504302926,
          0.6805845511482255,
          0.6857142857142857,
          0.6845637583892618,
          0.6863636363636364,
          0.6910755148741419,
          0.7021276595744681,
          0.7175792507204611,
          0.7177914110429447,
          0.7206349206349206,
          0.7220447284345048,
          0.7047619047619048,
          0.691358024691358,
          0.7466666666666667,
          0.7746478873239436,
          0.8070175438596491,
          0.8157894736842105,
          0.6923076923076923,
          1
         ]
        },
        {
         "line": {
          "dash": "dash"
         },
         "name": "0.0",
         "type": "scatter",
         "x": [
          0,
          1
         ],
         "y": [
          0,
          0
         ]
        }
       ],
       "layout": {
        "template": {
         "data": {
          "bar": [
           {
            "error_x": {
             "color": "#2a3f5f"
            },
            "error_y": {
             "color": "#2a3f5f"
            },
            "marker": {
             "line": {
              "color": "#E5ECF6",
              "width": 0.5
             }
            },
            "type": "bar"
           }
          ],
          "barpolar": [
           {
            "marker": {
             "line": {
              "color": "#E5ECF6",
              "width": 0.5
             }
            },
            "type": "barpolar"
           }
          ],
          "carpet": [
           {
            "aaxis": {
             "endlinecolor": "#2a3f5f",
             "gridcolor": "white",
             "linecolor": "white",
             "minorgridcolor": "white",
             "startlinecolor": "#2a3f5f"
            },
            "baxis": {
             "endlinecolor": "#2a3f5f",
             "gridcolor": "white",
             "linecolor": "white",
             "minorgridcolor": "white",
             "startlinecolor": "#2a3f5f"
            },
            "type": "carpet"
           }
          ],
          "choropleth": [
           {
            "colorbar": {
             "outlinewidth": 0,
             "ticks": ""
            },
            "type": "choropleth"
           }
          ],
          "contour": [
           {
            "colorbar": {
             "outlinewidth": 0,
             "ticks": ""
            },
            "colorscale": [
             [
              0,
              "#0d0887"
             ],
             [
              0.1111111111111111,
              "#46039f"
             ],
             [
              0.2222222222222222,
              "#7201a8"
             ],
             [
              0.3333333333333333,
              "#9c179e"
             ],
             [
              0.4444444444444444,
              "#bd3786"
             ],
             [
              0.5555555555555556,
              "#d8576b"
             ],
             [
              0.6666666666666666,
              "#ed7953"
             ],
             [
              0.7777777777777778,
              "#fb9f3a"
             ],
             [
              0.8888888888888888,
              "#fdca26"
             ],
             [
              1,
              "#f0f921"
             ]
            ],
            "type": "contour"
           }
          ],
          "contourcarpet": [
           {
            "colorbar": {
             "outlinewidth": 0,
             "ticks": ""
            },
            "type": "contourcarpet"
           }
          ],
          "heatmap": [
           {
            "colorbar": {
             "outlinewidth": 0,
             "ticks": ""
            },
            "colorscale": [
             [
              0,
              "#0d0887"
             ],
             [
              0.1111111111111111,
              "#46039f"
             ],
             [
              0.2222222222222222,
              "#7201a8"
             ],
             [
              0.3333333333333333,
              "#9c179e"
             ],
             [
              0.4444444444444444,
              "#bd3786"
             ],
             [
              0.5555555555555556,
              "#d8576b"
             ],
             [
              0.6666666666666666,
              "#ed7953"
             ],
             [
              0.7777777777777778,
              "#fb9f3a"
             ],
             [
              0.8888888888888888,
              "#fdca26"
             ],
             [
              1,
              "#f0f921"
             ]
            ],
            "type": "heatmap"
           }
          ],
          "heatmapgl": [
           {
            "colorbar": {
             "outlinewidth": 0,
             "ticks": ""
            },
            "colorscale": [
             [
              0,
              "#0d0887"
             ],
             [
              0.1111111111111111,
              "#46039f"
             ],
             [
              0.2222222222222222,
              "#7201a8"
             ],
             [
              0.3333333333333333,
              "#9c179e"
             ],
             [
              0.4444444444444444,
              "#bd3786"
             ],
             [
              0.5555555555555556,
              "#d8576b"
             ],
             [
              0.6666666666666666,
              "#ed7953"
             ],
             [
              0.7777777777777778,
              "#fb9f3a"
             ],
             [
              0.8888888888888888,
              "#fdca26"
             ],
             [
              1,
              "#f0f921"
             ]
            ],
            "type": "heatmapgl"
           }
          ],
          "histogram": [
           {
            "marker": {
             "colorbar": {
              "outlinewidth": 0,
              "ticks": ""
             }
            },
            "type": "histogram"
           }
          ],
          "histogram2d": [
           {
            "colorbar": {
             "outlinewidth": 0,
             "ticks": ""
            },
            "colorscale": [
             [
              0,
              "#0d0887"
             ],
             [
              0.1111111111111111,
              "#46039f"
             ],
             [
              0.2222222222222222,
              "#7201a8"
             ],
             [
              0.3333333333333333,
              "#9c179e"
             ],
             [
              0.4444444444444444,
              "#bd3786"
             ],
             [
              0.5555555555555556,
              "#d8576b"
             ],
             [
              0.6666666666666666,
              "#ed7953"
             ],
             [
              0.7777777777777778,
              "#fb9f3a"
             ],
             [
              0.8888888888888888,
              "#fdca26"
             ],
             [
              1,
              "#f0f921"
             ]
            ],
            "type": "histogram2d"
           }
          ],
          "histogram2dcontour": [
           {
            "colorbar": {
             "outlinewidth": 0,
             "ticks": ""
            },
            "colorscale": [
             [
              0,
              "#0d0887"
             ],
             [
              0.1111111111111111,
              "#46039f"
             ],
             [
              0.2222222222222222,
              "#7201a8"
             ],
             [
              0.3333333333333333,
              "#9c179e"
             ],
             [
              0.4444444444444444,
              "#bd3786"
             ],
             [
              0.5555555555555556,
              "#d8576b"
             ],
             [
              0.6666666666666666,
              "#ed7953"
             ],
             [
              0.7777777777777778,
              "#fb9f3a"
             ],
             [
              0.8888888888888888,
              "#fdca26"
             ],
             [
              1,
              "#f0f921"
             ]
            ],
            "type": "histogram2dcontour"
           }
          ],
          "mesh3d": [
           {
            "colorbar": {
             "outlinewidth": 0,
             "ticks": ""
            },
            "type": "mesh3d"
           }
          ],
          "parcoords": [
           {
            "line": {
             "colorbar": {
              "outlinewidth": 0,
              "ticks": ""
             }
            },
            "type": "parcoords"
           }
          ],
          "pie": [
           {
            "automargin": true,
            "type": "pie"
           }
          ],
          "scatter": [
           {
            "marker": {
             "colorbar": {
              "outlinewidth": 0,
              "ticks": ""
             }
            },
            "type": "scatter"
           }
          ],
          "scatter3d": [
           {
            "line": {
             "colorbar": {
              "outlinewidth": 0,
              "ticks": ""
             }
            },
            "marker": {
             "colorbar": {
              "outlinewidth": 0,
              "ticks": ""
             }
            },
            "type": "scatter3d"
           }
          ],
          "scattercarpet": [
           {
            "marker": {
             "colorbar": {
              "outlinewidth": 0,
              "ticks": ""
             }
            },
            "type": "scattercarpet"
           }
          ],
          "scattergeo": [
           {
            "marker": {
             "colorbar": {
              "outlinewidth": 0,
              "ticks": ""
             }
            },
            "type": "scattergeo"
           }
          ],
          "scattergl": [
           {
            "marker": {
             "colorbar": {
              "outlinewidth": 0,
              "ticks": ""
             }
            },
            "type": "scattergl"
           }
          ],
          "scattermapbox": [
           {
            "marker": {
             "colorbar": {
              "outlinewidth": 0,
              "ticks": ""
             }
            },
            "type": "scattermapbox"
           }
          ],
          "scatterpolar": [
           {
            "marker": {
             "colorbar": {
              "outlinewidth": 0,
              "ticks": ""
             }
            },
            "type": "scatterpolar"
           }
          ],
          "scatterpolargl": [
           {
            "marker": {
             "colorbar": {
              "outlinewidth": 0,
              "ticks": ""
             }
            },
            "type": "scatterpolargl"
           }
          ],
          "scatterternary": [
           {
            "marker": {
             "colorbar": {
              "outlinewidth": 0,
              "ticks": ""
             }
            },
            "type": "scatterternary"
           }
          ],
          "surface": [
           {
            "colorbar": {
             "outlinewidth": 0,
             "ticks": ""
            },
            "colorscale": [
             [
              0,
              "#0d0887"
             ],
             [
              0.1111111111111111,
              "#46039f"
             ],
             [
              0.2222222222222222,
              "#7201a8"
             ],
             [
              0.3333333333333333,
              "#9c179e"
             ],
             [
              0.4444444444444444,
              "#bd3786"
             ],
             [
              0.5555555555555556,
              "#d8576b"
             ],
             [
              0.6666666666666666,
              "#ed7953"
             ],
             [
              0.7777777777777778,
              "#fb9f3a"
             ],
             [
              0.8888888888888888,
              "#fdca26"
             ],
             [
              1,
              "#f0f921"
             ]
            ],
            "type": "surface"
           }
          ],
          "table": [
           {
            "cells": {
             "fill": {
              "color": "#EBF0F8"
             },
             "line": {
              "color": "white"
             }
            },
            "header": {
             "fill": {
              "color": "#C8D4E3"
             },
             "line": {
              "color": "white"
             }
            },
            "type": "table"
           }
          ]
         },
         "layout": {
          "annotationdefaults": {
           "arrowcolor": "#2a3f5f",
           "arrowhead": 0,
           "arrowwidth": 1
          },
          "autotypenumbers": "strict",
          "coloraxis": {
           "colorbar": {
            "outlinewidth": 0,
            "ticks": ""
           }
          },
          "colorscale": {
           "diverging": [
            [
             0,
             "#8e0152"
            ],
            [
             0.1,
             "#c51b7d"
            ],
            [
             0.2,
             "#de77ae"
            ],
            [
             0.3,
             "#f1b6da"
            ],
            [
             0.4,
             "#fde0ef"
            ],
            [
             0.5,
             "#f7f7f7"
            ],
            [
             0.6,
             "#e6f5d0"
            ],
            [
             0.7,
             "#b8e186"
            ],
            [
             0.8,
             "#7fbc41"
            ],
            [
             0.9,
             "#4d9221"
            ],
            [
             1,
             "#276419"
            ]
           ],
           "sequential": [
            [
             0,
             "#0d0887"
            ],
            [
             0.1111111111111111,
             "#46039f"
            ],
            [
             0.2222222222222222,
             "#7201a8"
            ],
            [
             0.3333333333333333,
             "#9c179e"
            ],
            [
             0.4444444444444444,
             "#bd3786"
            ],
            [
             0.5555555555555556,
             "#d8576b"
            ],
            [
             0.6666666666666666,
             "#ed7953"
            ],
            [
             0.7777777777777778,
             "#fb9f3a"
            ],
            [
             0.8888888888888888,
             "#fdca26"
            ],
            [
             1,
             "#f0f921"
            ]
           ],
           "sequentialminus": [
            [
             0,
             "#0d0887"
            ],
            [
             0.1111111111111111,
             "#46039f"
            ],
            [
             0.2222222222222222,
             "#7201a8"
            ],
            [
             0.3333333333333333,
             "#9c179e"
            ],
            [
             0.4444444444444444,
             "#bd3786"
            ],
            [
             0.5555555555555556,
             "#d8576b"
            ],
            [
             0.6666666666666666,
             "#ed7953"
            ],
            [
             0.7777777777777778,
             "#fb9f3a"
            ],
            [
             0.8888888888888888,
             "#fdca26"
            ],
            [
             1,
             "#f0f921"
            ]
           ]
          },
          "colorway": [
           "#636efa",
           "#EF553B",
           "#00cc96",
           "#ab63fa",
           "#FFA15A",
           "#19d3f3",
           "#FF6692",
           "#B6E880",
           "#FF97FF",
           "#FECB52"
          ],
          "font": {
           "color": "#2a3f5f"
          },
          "geo": {
           "bgcolor": "white",
           "lakecolor": "white",
           "landcolor": "#E5ECF6",
           "showlakes": true,
           "showland": true,
           "subunitcolor": "white"
          },
          "hoverlabel": {
           "align": "left"
          },
          "hovermode": "closest",
          "mapbox": {
           "style": "light"
          },
          "paper_bgcolor": "white",
          "plot_bgcolor": "#E5ECF6",
          "polar": {
           "angularaxis": {
            "gridcolor": "white",
            "linecolor": "white",
            "ticks": ""
           },
           "bgcolor": "#E5ECF6",
           "radialaxis": {
            "gridcolor": "white",
            "linecolor": "white",
            "ticks": ""
           }
          },
          "scene": {
           "xaxis": {
            "backgroundcolor": "#E5ECF6",
            "gridcolor": "white",
            "gridwidth": 2,
            "linecolor": "white",
            "showbackground": true,
            "ticks": "",
            "zerolinecolor": "white"
           },
           "yaxis": {
            "backgroundcolor": "#E5ECF6",
            "gridcolor": "white",
            "gridwidth": 2,
            "linecolor": "white",
            "showbackground": true,
            "ticks": "",
            "zerolinecolor": "white"
           },
           "zaxis": {
            "backgroundcolor": "#E5ECF6",
            "gridcolor": "white",
            "gridwidth": 2,
            "linecolor": "white",
            "showbackground": true,
            "ticks": "",
            "zerolinecolor": "white"
           }
          },
          "shapedefaults": {
           "line": {
            "color": "#2a3f5f"
           }
          },
          "ternary": {
           "aaxis": {
            "gridcolor": "white",
            "linecolor": "white",
            "ticks": ""
           },
           "baxis": {
            "gridcolor": "white",
            "linecolor": "white",
            "ticks": ""
           },
           "bgcolor": "#E5ECF6",
           "caxis": {
            "gridcolor": "white",
            "linecolor": "white",
            "ticks": ""
           }
          },
          "title": {
           "x": 0.05
          },
          "xaxis": {
           "automargin": true,
           "gridcolor": "white",
           "linecolor": "white",
           "ticks": "",
           "title": {
            "standoff": 15
           },
           "zerolinecolor": "white",
           "zerolinewidth": 2
          },
          "yaxis": {
           "automargin": true,
           "gridcolor": "white",
           "linecolor": "white",
           "ticks": "",
           "title": {
            "standoff": 15
           },
           "zerolinecolor": "white",
           "zerolinewidth": 2
          }
         }
        }
       }
      },
      "text/html": [
       "<div>                            <div id=\"8c08f056-4dc7-4f00-83e9-5f5315954bca\" class=\"plotly-graph-div\" style=\"height:525px; width:100%;\"></div>            <script type=\"text/javascript\">                require([\"plotly\"], function(Plotly) {                    window.PLOTLYENV=window.PLOTLYENV || {};                                    if (document.getElementById(\"8c08f056-4dc7-4f00-83e9-5f5315954bca\")) {                    Plotly.newPlot(                        \"8c08f056-4dc7-4f00-83e9-5f5315954bca\",                        [{\"mode\": \"lines\", \"name\": \"PR curve\", \"type\": \"scatter\", \"x\": [1.0, 0.9932177844762623, 0.9886963074604371, 0.9819140919366993, 0.9683496608892238, 0.8522984174830445, 0.8462697814619442, 0.8447626224566692, 0.8440090429540317, 0.841748304446119, 0.8409947249434815, 0.7641296156744537, 0.7633760361718162, 0.7151469480030144, 0.6895252449133383, 0.6834966088922382, 0.6729464958553127, 0.6699321778447627, 0.6684250188394876, 0.66767143933685, 0.6450640542577242, 0.6375282592313489, 0.6307460437076111, 0.5373021853805576, 0.53353428786737, 0.5237377543330821, 0.5214770158251696, 0.5214770158251696, 0.5169555388093444, 0.5154483798040693, 0.5116804822908817, 0.5109269027882442, 0.45139412207987945, 0.4423511680482291, 0.42577241899020346, 0.4250188394875659, 0.41974378296910325, 0.41974378296910325, 0.4069329314242653, 0.40617935192162774, 0.39939713639789, 0.3911077618688772, 0.37980406932931426, 0.34287867370007535, 0.33685003767897514, 0.333835719668425, 0.32931424265259984, 0.30143180105501133, 0.2863602110022607, 0.24566691785983422, 0.2351168048229088, 0.23059532780708364, 0.22758100979653353, 0.22758100979653353, 0.22381311228334588, 0.18764129615674455, 0.17633760361718162, 0.1710625470987189, 0.17030896759608138, 0.05576488319517709, 0.04220045214770158, 0.04220045214770158, 0.04144687264506405, 0.0346646571213263, 0.023360964581763375, 0.006782215523737754, 0.0], \"y\": [0.22116666666666668, 0.220364487543889, 0.219655114682739, 0.219286435543588, 0.2230902777777778, 0.2831747621432148, 0.2919157785287237, 0.29207920792079206, 0.2921993216801461, 0.29164490861618797, 0.2922230950510605, 0.31647940074906367, 0.31745534315261675, 0.3458454810495627, 0.3795105765242638, 0.38302364864864863, 0.3869150779896014, 0.3861859252823632, 0.3880139982502187, 0.387746170678337, 0.39684747334260545, 0.4009478672985782, 0.40869140625, 0.4827352742044685, 0.48261758691206547, 0.4953670705630791, 0.49463902787705505, 0.4949928469241774, 0.5, 0.4996347699050402, 0.5003684598378777, 0.5003690036900369, 0.5455373406193078, 0.5522107243650047, 0.5517578125, 0.5529411764705883, 0.554228855721393, 0.555333998005982, 0.5613305613305614, 0.565582371458552, 0.569280343716434, 0.5753880266075388, 0.5826589595375723, 0.6232876712328768, 0.6225626740947076, 0.6221910112359551, 0.6251788268955651, 0.6462035541195477, 0.6540447504302926, 0.6805845511482255, 0.6857142857142857, 0.6845637583892618, 0.6863636363636364, 0.6910755148741419, 0.7021276595744681, 0.7175792507204611, 0.7177914110429447, 0.7206349206349206, 0.7220447284345048, 0.7047619047619048, 0.691358024691358, 0.7466666666666667, 0.7746478873239436, 0.8070175438596491, 0.8157894736842105, 0.6923076923076923, 1.0]}, {\"line\": {\"dash\": \"dash\"}, \"name\": \"0.0\", \"type\": \"scatter\", \"x\": [0, 1], \"y\": [0, 0]}],                        {\"template\": {\"data\": {\"bar\": [{\"error_x\": {\"color\": \"#2a3f5f\"}, \"error_y\": {\"color\": \"#2a3f5f\"}, \"marker\": {\"line\": {\"color\": \"#E5ECF6\", \"width\": 0.5}}, \"type\": \"bar\"}], \"barpolar\": [{\"marker\": {\"line\": {\"color\": \"#E5ECF6\", \"width\": 0.5}}, \"type\": \"barpolar\"}], \"carpet\": [{\"aaxis\": {\"endlinecolor\": \"#2a3f5f\", \"gridcolor\": \"white\", \"linecolor\": \"white\", \"minorgridcolor\": \"white\", \"startlinecolor\": \"#2a3f5f\"}, \"baxis\": {\"endlinecolor\": \"#2a3f5f\", \"gridcolor\": \"white\", \"linecolor\": \"white\", \"minorgridcolor\": \"white\", \"startlinecolor\": \"#2a3f5f\"}, \"type\": \"carpet\"}], \"choropleth\": [{\"colorbar\": {\"outlinewidth\": 0, \"ticks\": \"\"}, \"type\": \"choropleth\"}], \"contour\": [{\"colorbar\": {\"outlinewidth\": 0, \"ticks\": \"\"}, \"colorscale\": [[0.0, \"#0d0887\"], [0.1111111111111111, \"#46039f\"], [0.2222222222222222, \"#7201a8\"], [0.3333333333333333, \"#9c179e\"], [0.4444444444444444, \"#bd3786\"], [0.5555555555555556, \"#d8576b\"], [0.6666666666666666, \"#ed7953\"], [0.7777777777777778, \"#fb9f3a\"], [0.8888888888888888, \"#fdca26\"], [1.0, \"#f0f921\"]], \"type\": \"contour\"}], \"contourcarpet\": [{\"colorbar\": {\"outlinewidth\": 0, \"ticks\": \"\"}, \"type\": \"contourcarpet\"}], \"heatmap\": [{\"colorbar\": {\"outlinewidth\": 0, \"ticks\": \"\"}, \"colorscale\": [[0.0, \"#0d0887\"], [0.1111111111111111, \"#46039f\"], [0.2222222222222222, \"#7201a8\"], [0.3333333333333333, \"#9c179e\"], [0.4444444444444444, \"#bd3786\"], [0.5555555555555556, \"#d8576b\"], [0.6666666666666666, \"#ed7953\"], [0.7777777777777778, \"#fb9f3a\"], [0.8888888888888888, \"#fdca26\"], [1.0, \"#f0f921\"]], \"type\": \"heatmap\"}], \"heatmapgl\": [{\"colorbar\": {\"outlinewidth\": 0, \"ticks\": \"\"}, \"colorscale\": [[0.0, \"#0d0887\"], [0.1111111111111111, \"#46039f\"], [0.2222222222222222, \"#7201a8\"], [0.3333333333333333, \"#9c179e\"], [0.4444444444444444, \"#bd3786\"], [0.5555555555555556, \"#d8576b\"], [0.6666666666666666, \"#ed7953\"], [0.7777777777777778, \"#fb9f3a\"], [0.8888888888888888, \"#fdca26\"], [1.0, \"#f0f921\"]], \"type\": \"heatmapgl\"}], \"histogram\": [{\"marker\": {\"colorbar\": {\"outlinewidth\": 0, \"ticks\": \"\"}}, \"type\": \"histogram\"}], \"histogram2d\": [{\"colorbar\": {\"outlinewidth\": 0, \"ticks\": \"\"}, \"colorscale\": [[0.0, \"#0d0887\"], [0.1111111111111111, \"#46039f\"], [0.2222222222222222, \"#7201a8\"], [0.3333333333333333, \"#9c179e\"], [0.4444444444444444, \"#bd3786\"], [0.5555555555555556, \"#d8576b\"], [0.6666666666666666, \"#ed7953\"], [0.7777777777777778, \"#fb9f3a\"], [0.8888888888888888, \"#fdca26\"], [1.0, \"#f0f921\"]], \"type\": \"histogram2d\"}], \"histogram2dcontour\": [{\"colorbar\": {\"outlinewidth\": 0, \"ticks\": \"\"}, \"colorscale\": [[0.0, \"#0d0887\"], [0.1111111111111111, \"#46039f\"], [0.2222222222222222, \"#7201a8\"], [0.3333333333333333, \"#9c179e\"], [0.4444444444444444, \"#bd3786\"], [0.5555555555555556, \"#d8576b\"], [0.6666666666666666, \"#ed7953\"], [0.7777777777777778, \"#fb9f3a\"], [0.8888888888888888, \"#fdca26\"], [1.0, \"#f0f921\"]], \"type\": \"histogram2dcontour\"}], \"mesh3d\": [{\"colorbar\": {\"outlinewidth\": 0, \"ticks\": \"\"}, \"type\": \"mesh3d\"}], \"parcoords\": [{\"line\": {\"colorbar\": {\"outlinewidth\": 0, \"ticks\": \"\"}}, \"type\": \"parcoords\"}], \"pie\": [{\"automargin\": true, \"type\": \"pie\"}], \"scatter\": [{\"marker\": {\"colorbar\": {\"outlinewidth\": 0, \"ticks\": \"\"}}, \"type\": \"scatter\"}], \"scatter3d\": [{\"line\": {\"colorbar\": {\"outlinewidth\": 0, \"ticks\": \"\"}}, \"marker\": {\"colorbar\": {\"outlinewidth\": 0, \"ticks\": \"\"}}, \"type\": \"scatter3d\"}], \"scattercarpet\": [{\"marker\": {\"colorbar\": {\"outlinewidth\": 0, \"ticks\": \"\"}}, \"type\": \"scattercarpet\"}], \"scattergeo\": [{\"marker\": {\"colorbar\": {\"outlinewidth\": 0, \"ticks\": \"\"}}, \"type\": \"scattergeo\"}], \"scattergl\": [{\"marker\": {\"colorbar\": {\"outlinewidth\": 0, \"ticks\": \"\"}}, \"type\": \"scattergl\"}], \"scattermapbox\": [{\"marker\": {\"colorbar\": {\"outlinewidth\": 0, \"ticks\": \"\"}}, \"type\": \"scattermapbox\"}], \"scatterpolar\": [{\"marker\": {\"colorbar\": {\"outlinewidth\": 0, \"ticks\": \"\"}}, \"type\": \"scatterpolar\"}], \"scatterpolargl\": [{\"marker\": {\"colorbar\": {\"outlinewidth\": 0, \"ticks\": \"\"}}, \"type\": \"scatterpolargl\"}], \"scatterternary\": [{\"marker\": {\"colorbar\": {\"outlinewidth\": 0, \"ticks\": \"\"}}, \"type\": \"scatterternary\"}], \"surface\": [{\"colorbar\": {\"outlinewidth\": 0, \"ticks\": \"\"}, \"colorscale\": [[0.0, \"#0d0887\"], [0.1111111111111111, \"#46039f\"], [0.2222222222222222, \"#7201a8\"], [0.3333333333333333, \"#9c179e\"], [0.4444444444444444, \"#bd3786\"], [0.5555555555555556, \"#d8576b\"], [0.6666666666666666, \"#ed7953\"], [0.7777777777777778, \"#fb9f3a\"], [0.8888888888888888, \"#fdca26\"], [1.0, \"#f0f921\"]], \"type\": \"surface\"}], \"table\": [{\"cells\": {\"fill\": {\"color\": \"#EBF0F8\"}, \"line\": {\"color\": \"white\"}}, \"header\": {\"fill\": {\"color\": \"#C8D4E3\"}, \"line\": {\"color\": \"white\"}}, \"type\": \"table\"}]}, \"layout\": {\"annotationdefaults\": {\"arrowcolor\": \"#2a3f5f\", \"arrowhead\": 0, \"arrowwidth\": 1}, \"autotypenumbers\": \"strict\", \"coloraxis\": {\"colorbar\": {\"outlinewidth\": 0, \"ticks\": \"\"}}, \"colorscale\": {\"diverging\": [[0, \"#8e0152\"], [0.1, \"#c51b7d\"], [0.2, \"#de77ae\"], [0.3, \"#f1b6da\"], [0.4, \"#fde0ef\"], [0.5, \"#f7f7f7\"], [0.6, \"#e6f5d0\"], [0.7, \"#b8e186\"], [0.8, \"#7fbc41\"], [0.9, \"#4d9221\"], [1, \"#276419\"]], \"sequential\": [[0.0, \"#0d0887\"], [0.1111111111111111, \"#46039f\"], [0.2222222222222222, \"#7201a8\"], [0.3333333333333333, \"#9c179e\"], [0.4444444444444444, \"#bd3786\"], [0.5555555555555556, \"#d8576b\"], [0.6666666666666666, \"#ed7953\"], [0.7777777777777778, \"#fb9f3a\"], [0.8888888888888888, \"#fdca26\"], [1.0, \"#f0f921\"]], \"sequentialminus\": [[0.0, \"#0d0887\"], [0.1111111111111111, \"#46039f\"], [0.2222222222222222, \"#7201a8\"], [0.3333333333333333, \"#9c179e\"], [0.4444444444444444, \"#bd3786\"], [0.5555555555555556, \"#d8576b\"], [0.6666666666666666, \"#ed7953\"], [0.7777777777777778, \"#fb9f3a\"], [0.8888888888888888, \"#fdca26\"], [1.0, \"#f0f921\"]]}, \"colorway\": [\"#636efa\", \"#EF553B\", \"#00cc96\", \"#ab63fa\", \"#FFA15A\", \"#19d3f3\", \"#FF6692\", \"#B6E880\", \"#FF97FF\", \"#FECB52\"], \"font\": {\"color\": \"#2a3f5f\"}, \"geo\": {\"bgcolor\": \"white\", \"lakecolor\": \"white\", \"landcolor\": \"#E5ECF6\", \"showlakes\": true, \"showland\": true, \"subunitcolor\": \"white\"}, \"hoverlabel\": {\"align\": \"left\"}, \"hovermode\": \"closest\", \"mapbox\": {\"style\": \"light\"}, \"paper_bgcolor\": \"white\", \"plot_bgcolor\": \"#E5ECF6\", \"polar\": {\"angularaxis\": {\"gridcolor\": \"white\", \"linecolor\": \"white\", \"ticks\": \"\"}, \"bgcolor\": \"#E5ECF6\", \"radialaxis\": {\"gridcolor\": \"white\", \"linecolor\": \"white\", \"ticks\": \"\"}}, \"scene\": {\"xaxis\": {\"backgroundcolor\": \"#E5ECF6\", \"gridcolor\": \"white\", \"gridwidth\": 2, \"linecolor\": \"white\", \"showbackground\": true, \"ticks\": \"\", \"zerolinecolor\": \"white\"}, \"yaxis\": {\"backgroundcolor\": \"#E5ECF6\", \"gridcolor\": \"white\", \"gridwidth\": 2, \"linecolor\": \"white\", \"showbackground\": true, \"ticks\": \"\", \"zerolinecolor\": \"white\"}, \"zaxis\": {\"backgroundcolor\": \"#E5ECF6\", \"gridcolor\": \"white\", \"gridwidth\": 2, \"linecolor\": \"white\", \"showbackground\": true, \"ticks\": \"\", \"zerolinecolor\": \"white\"}}, \"shapedefaults\": {\"line\": {\"color\": \"#2a3f5f\"}}, \"ternary\": {\"aaxis\": {\"gridcolor\": \"white\", \"linecolor\": \"white\", \"ticks\": \"\"}, \"baxis\": {\"gridcolor\": \"white\", \"linecolor\": \"white\", \"ticks\": \"\"}, \"bgcolor\": \"#E5ECF6\", \"caxis\": {\"gridcolor\": \"white\", \"linecolor\": \"white\", \"ticks\": \"\"}}, \"title\": {\"x\": 0.05}, \"xaxis\": {\"automargin\": true, \"gridcolor\": \"white\", \"linecolor\": \"white\", \"ticks\": \"\", \"title\": {\"standoff\": 15}, \"zerolinecolor\": \"white\", \"zerolinewidth\": 2}, \"yaxis\": {\"automargin\": true, \"gridcolor\": \"white\", \"linecolor\": \"white\", \"ticks\": \"\", \"title\": {\"standoff\": 15}, \"zerolinecolor\": \"white\", \"zerolinewidth\": 2}}}},                        {\"responsive\": true}                    ).then(function(){\n",
       "                            \n",
       "var gd = document.getElementById('8c08f056-4dc7-4f00-83e9-5f5315954bca');\n",
       "var x = new MutationObserver(function (mutations, observer) {{\n",
       "        var display = window.getComputedStyle(gd).display;\n",
       "        if (!display || display === 'none') {{\n",
       "            console.log([gd, 'removed!']);\n",
       "            Plotly.purge(gd);\n",
       "            observer.disconnect();\n",
       "        }}\n",
       "}});\n",
       "\n",
       "// Listen for the removal of the full notebook cells\n",
       "var notebookContainer = gd.closest('#notebook-container');\n",
       "if (notebookContainer) {{\n",
       "    x.observe(notebookContainer, {childList: true});\n",
       "}}\n",
       "\n",
       "// Listen for the clearing of the current output cell\n",
       "var outputEl = gd.closest('.output');\n",
       "if (outputEl) {{\n",
       "    x.observe(outputEl, {childList: true});\n",
       "}}\n",
       "\n",
       "                        })                };                });            </script>        </div>"
      ]
     },
     "metadata": {},
     "output_type": "display_data"
    }
   ],
   "source": [
    "fig.show()"
   ]
  },
  {
   "cell_type": "markdown",
   "metadata": {},
   "source": [
    "## 5 - Evaluation"
   ]
  },
  {
   "cell_type": "markdown",
   "metadata": {},
   "source": [
    "### Question 1 - How does the probability of default payment vary by categories of different demographic variables?"
   ]
  },
  {
   "cell_type": "markdown",
   "metadata": {},
   "source": [
    "We can analyze the default behavior in each of the categorical variables through the graphic visualization."
   ]
  },
  {
   "cell_type": "code",
   "execution_count": 420,
   "metadata": {},
   "outputs": [
    {
     "data": {
      "image/png": "[encoded data removed]",
      "text/plain": [
       "<Figure size 1440x720 with 6 Axes>"
      ]
     },
     "execution_count": 420,
     "metadata": {},
     "output_type": "execute_result"
    }
   ],
   "source": [
    "f"
   ]
  },
  {
   "cell_type": "markdown",
   "metadata": {},
   "source": [
    "In the analysis of the graphs above, it is observed:\n",
    "         \n",
    "- Men have a higher default rate than women;\n",
    "- There is a lower number of defaulters among people with higher education than among people with less education;\n",
    "- People with more education have, on average, a higher limit than people with less education;\n",
    "- There is no significant difference in the average age of good payers and bad payers;\n",
    "- Married customers have a higher percentage of bad debtors than single customers;\n",
    "- Married clients have, on average, a higher limit than single clients."
   ]
  },
  {
   "cell_type": "markdown",
   "metadata": {},
   "source": [
    "### Question 2 - Which variables are the strongest predictors of default payment?"
   ]
  },
  {
   "cell_type": "markdown",
   "metadata": {},
   "source": [
    "#### Feature Importance"
   ]
  },
  {
   "cell_type": "markdown",
   "metadata": {},
   "source": [
    "In a model such as Decision Tree, the importance of the feature is calculated by the model. Feature importance is calculated as the decrease in node impurity weighted by the probability of reaching that node. The node probability can be calculated by the number of samples that reach the node, divided by the total number of samples. The higher the value the more important the feature."
   ]
  },
  {
   "cell_type": "code",
   "execution_count": 450,
   "metadata": {},
   "outputs": [],
   "source": [
    "importance = []\n",
    "for a,b in zip(cred.columns[1:-1], Tree.feature_importances_):\n",
    "    importance.append([a, b])\n",
    "\n",
    "importance = pd.DataFrame(importance, columns= ['feature', 'importance']).sort_values(by = 'importance', ascending= False)"
   ]
  },
  {
   "cell_type": "code",
   "execution_count": 452,
   "metadata": {},
   "outputs": [
    {
     "data": {
      "text/html": [
       "<div>\n",
       "<style scoped>\n",
       "    .dataframe tbody tr th:only-of-type {\n",
       "        vertical-align: middle;\n",
       "    }\n",
       "\n",
       "    .dataframe tbody tr th {\n",
       "        vertical-align: top;\n",
       "    }\n",
       "\n",
       "    .dataframe thead th {\n",
       "        text-align: right;\n",
       "    }\n",
       "</style>\n",
       "<table border=\"1\" class=\"dataframe\">\n",
       "  <thead>\n",
       "    <tr style=\"text-align: right;\">\n",
       "      <th></th>\n",
       "      <th>feature</th>\n",
       "      <th>importance</th>\n",
       "    </tr>\n",
       "  </thead>\n",
       "  <tbody>\n",
       "    <tr>\n",
       "      <th>6</th>\n",
       "      <td>PAY_2</td>\n",
       "      <td>0.512589</td>\n",
       "    </tr>\n",
       "    <tr>\n",
       "      <th>5</th>\n",
       "      <td>PAY_0</td>\n",
       "      <td>0.171813</td>\n",
       "    </tr>\n",
       "    <tr>\n",
       "      <th>8</th>\n",
       "      <td>PAY_4</td>\n",
       "      <td>0.069905</td>\n",
       "    </tr>\n",
       "    <tr>\n",
       "      <th>20</th>\n",
       "      <td>PAY_AMT4</td>\n",
       "      <td>0.033306</td>\n",
       "    </tr>\n",
       "    <tr>\n",
       "      <th>0</th>\n",
       "      <td>LIMIT_BAL</td>\n",
       "      <td>0.025858</td>\n",
       "    </tr>\n",
       "  </tbody>\n",
       "</table>\n",
       "</div>"
      ],
      "text/plain": [
       "      feature  importance\n",
       "6       PAY_2    0.512589\n",
       "5       PAY_0    0.171813\n",
       "8       PAY_4    0.069905\n",
       "20   PAY_AMT4    0.033306\n",
       "0   LIMIT_BAL    0.025858"
      ]
     },
     "execution_count": 452,
     "metadata": {},
     "output_type": "execute_result"
    }
   ],
   "source": [
    "importance.head()"
   ]
  },
  {
   "cell_type": "markdown",
   "metadata": {},
   "source": [
    "The variable with the greatest importance is **PAY_2**"
   ]
  },
  {
   "cell_type": "code",
   "execution_count": null,
   "metadata": {},
   "outputs": [],
   "source": []
  }
 ],
 "metadata": {
  "kernelspec": {
   "display_name": "Python 3",
   "language": "python",
   "name": "python3"
  },
  "language_info": {
   "codemirror_mode": {
    "name": "ipython",
    "version": 3
   },
   "file_extension": ".py",
   "mimetype": "text/x-python",
   "name": "python",
   "nbconvert_exporter": "python",
   "pygments_lexer": "ipython3",
   "version": "3.8.3"
  }
 },
 "nbformat": 4,
 "nbformat_minor": 4
}
